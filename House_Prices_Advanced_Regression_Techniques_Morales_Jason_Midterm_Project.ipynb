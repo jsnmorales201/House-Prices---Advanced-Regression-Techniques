{
 "cells": [
  {
   "cell_type": "markdown",
   "metadata": {},
   "source": [
    "### Midterm project - Kaggle exercise project\n",
    "\n",
    "https://www.kaggle.com/c/house-prices-advanced-regression-techniques\n",
    "\n",
    "Goals\n",
    "\n",
    "* Get familar with Kaggle competition since our final project may be a real Kaggle competition.\n",
    "* Practice on large data set\n",
    "* Data quality checking, missing data imputation\n",
    "* Feature selection. What's your rationals to choose those features.\n",
    "* Create at least 5 new features and explain your reason for every new features.\n",
    "* Use feature importance to help you choose 10 features\n",
    "* Choose 3 ML algorithms we covered in the class to build your prediction models\n",
    "* For each model you build, you will need to evaluate and show your effort to improve it.\n",
    "* Your jupyter submission should be in an article quality. Do NOT print huge data set in the notebook. Use head(). Use plotting to visualize your analysis and results. Use markdown to write your comments.\n",
    "* Your score is based on completeness on every step.\n",
    "* Submit in HTML and ipynb format on canvas"
   ]
  },
  {
   "cell_type": "code",
   "execution_count": 1,
   "metadata": {},
   "outputs": [],
   "source": [
    "import pandas as pd\n",
    "import numpy as np\n",
    "import matplotlib.pyplot as plt\n",
    "%matplotlib inline"
   ]
  },
  {
   "cell_type": "code",
   "execution_count": 2,
   "metadata": {},
   "outputs": [],
   "source": [
    "house_train_data = pd.read_csv('train.csv')"
   ]
  },
  {
   "cell_type": "code",
   "execution_count": 3,
   "metadata": {},
   "outputs": [],
   "source": [
    "house_test_data = pd.read_csv('test.csv')"
   ]
  },
  {
   "cell_type": "markdown",
   "metadata": {},
   "source": [
    "## Data Exploration: quality checking"
   ]
  },
  {
   "cell_type": "code",
   "execution_count": 4,
   "metadata": {
    "scrolled": false
   },
   "outputs": [
    {
     "data": {
      "text/html": [
       "<div>\n",
       "<style scoped>\n",
       "    .dataframe tbody tr th:only-of-type {\n",
       "        vertical-align: middle;\n",
       "    }\n",
       "\n",
       "    .dataframe tbody tr th {\n",
       "        vertical-align: top;\n",
       "    }\n",
       "\n",
       "    .dataframe thead th {\n",
       "        text-align: right;\n",
       "    }\n",
       "</style>\n",
       "<table border=\"1\" class=\"dataframe\">\n",
       "  <thead>\n",
       "    <tr style=\"text-align: right;\">\n",
       "      <th></th>\n",
       "      <th>Id</th>\n",
       "      <th>MSSubClass</th>\n",
       "      <th>MSZoning</th>\n",
       "      <th>LotFrontage</th>\n",
       "      <th>LotArea</th>\n",
       "      <th>Street</th>\n",
       "      <th>Alley</th>\n",
       "      <th>LotShape</th>\n",
       "      <th>LandContour</th>\n",
       "      <th>Utilities</th>\n",
       "      <th>...</th>\n",
       "      <th>PoolArea</th>\n",
       "      <th>PoolQC</th>\n",
       "      <th>Fence</th>\n",
       "      <th>MiscFeature</th>\n",
       "      <th>MiscVal</th>\n",
       "      <th>MoSold</th>\n",
       "      <th>YrSold</th>\n",
       "      <th>SaleType</th>\n",
       "      <th>SaleCondition</th>\n",
       "      <th>SalePrice</th>\n",
       "    </tr>\n",
       "  </thead>\n",
       "  <tbody>\n",
       "    <tr>\n",
       "      <th>0</th>\n",
       "      <td>1</td>\n",
       "      <td>60</td>\n",
       "      <td>RL</td>\n",
       "      <td>65.0</td>\n",
       "      <td>8450</td>\n",
       "      <td>Pave</td>\n",
       "      <td>NaN</td>\n",
       "      <td>Reg</td>\n",
       "      <td>Lvl</td>\n",
       "      <td>AllPub</td>\n",
       "      <td>...</td>\n",
       "      <td>0</td>\n",
       "      <td>NaN</td>\n",
       "      <td>NaN</td>\n",
       "      <td>NaN</td>\n",
       "      <td>0</td>\n",
       "      <td>2</td>\n",
       "      <td>2008</td>\n",
       "      <td>WD</td>\n",
       "      <td>Normal</td>\n",
       "      <td>208500</td>\n",
       "    </tr>\n",
       "    <tr>\n",
       "      <th>1</th>\n",
       "      <td>2</td>\n",
       "      <td>20</td>\n",
       "      <td>RL</td>\n",
       "      <td>80.0</td>\n",
       "      <td>9600</td>\n",
       "      <td>Pave</td>\n",
       "      <td>NaN</td>\n",
       "      <td>Reg</td>\n",
       "      <td>Lvl</td>\n",
       "      <td>AllPub</td>\n",
       "      <td>...</td>\n",
       "      <td>0</td>\n",
       "      <td>NaN</td>\n",
       "      <td>NaN</td>\n",
       "      <td>NaN</td>\n",
       "      <td>0</td>\n",
       "      <td>5</td>\n",
       "      <td>2007</td>\n",
       "      <td>WD</td>\n",
       "      <td>Normal</td>\n",
       "      <td>181500</td>\n",
       "    </tr>\n",
       "    <tr>\n",
       "      <th>2</th>\n",
       "      <td>3</td>\n",
       "      <td>60</td>\n",
       "      <td>RL</td>\n",
       "      <td>68.0</td>\n",
       "      <td>11250</td>\n",
       "      <td>Pave</td>\n",
       "      <td>NaN</td>\n",
       "      <td>IR1</td>\n",
       "      <td>Lvl</td>\n",
       "      <td>AllPub</td>\n",
       "      <td>...</td>\n",
       "      <td>0</td>\n",
       "      <td>NaN</td>\n",
       "      <td>NaN</td>\n",
       "      <td>NaN</td>\n",
       "      <td>0</td>\n",
       "      <td>9</td>\n",
       "      <td>2008</td>\n",
       "      <td>WD</td>\n",
       "      <td>Normal</td>\n",
       "      <td>223500</td>\n",
       "    </tr>\n",
       "    <tr>\n",
       "      <th>3</th>\n",
       "      <td>4</td>\n",
       "      <td>70</td>\n",
       "      <td>RL</td>\n",
       "      <td>60.0</td>\n",
       "      <td>9550</td>\n",
       "      <td>Pave</td>\n",
       "      <td>NaN</td>\n",
       "      <td>IR1</td>\n",
       "      <td>Lvl</td>\n",
       "      <td>AllPub</td>\n",
       "      <td>...</td>\n",
       "      <td>0</td>\n",
       "      <td>NaN</td>\n",
       "      <td>NaN</td>\n",
       "      <td>NaN</td>\n",
       "      <td>0</td>\n",
       "      <td>2</td>\n",
       "      <td>2006</td>\n",
       "      <td>WD</td>\n",
       "      <td>Abnorml</td>\n",
       "      <td>140000</td>\n",
       "    </tr>\n",
       "    <tr>\n",
       "      <th>4</th>\n",
       "      <td>5</td>\n",
       "      <td>60</td>\n",
       "      <td>RL</td>\n",
       "      <td>84.0</td>\n",
       "      <td>14260</td>\n",
       "      <td>Pave</td>\n",
       "      <td>NaN</td>\n",
       "      <td>IR1</td>\n",
       "      <td>Lvl</td>\n",
       "      <td>AllPub</td>\n",
       "      <td>...</td>\n",
       "      <td>0</td>\n",
       "      <td>NaN</td>\n",
       "      <td>NaN</td>\n",
       "      <td>NaN</td>\n",
       "      <td>0</td>\n",
       "      <td>12</td>\n",
       "      <td>2008</td>\n",
       "      <td>WD</td>\n",
       "      <td>Normal</td>\n",
       "      <td>250000</td>\n",
       "    </tr>\n",
       "  </tbody>\n",
       "</table>\n",
       "<p>5 rows × 81 columns</p>\n",
       "</div>"
      ],
      "text/plain": [
       "   Id  MSSubClass MSZoning  LotFrontage  LotArea Street Alley LotShape  \\\n",
       "0   1          60       RL         65.0     8450   Pave   NaN      Reg   \n",
       "1   2          20       RL         80.0     9600   Pave   NaN      Reg   \n",
       "2   3          60       RL         68.0    11250   Pave   NaN      IR1   \n",
       "3   4          70       RL         60.0     9550   Pave   NaN      IR1   \n",
       "4   5          60       RL         84.0    14260   Pave   NaN      IR1   \n",
       "\n",
       "  LandContour Utilities  ... PoolArea PoolQC Fence MiscFeature MiscVal MoSold  \\\n",
       "0         Lvl    AllPub  ...        0    NaN   NaN         NaN       0      2   \n",
       "1         Lvl    AllPub  ...        0    NaN   NaN         NaN       0      5   \n",
       "2         Lvl    AllPub  ...        0    NaN   NaN         NaN       0      9   \n",
       "3         Lvl    AllPub  ...        0    NaN   NaN         NaN       0      2   \n",
       "4         Lvl    AllPub  ...        0    NaN   NaN         NaN       0     12   \n",
       "\n",
       "  YrSold  SaleType  SaleCondition  SalePrice  \n",
       "0   2008        WD         Normal     208500  \n",
       "1   2007        WD         Normal     181500  \n",
       "2   2008        WD         Normal     223500  \n",
       "3   2006        WD        Abnorml     140000  \n",
       "4   2008        WD         Normal     250000  \n",
       "\n",
       "[5 rows x 81 columns]"
      ]
     },
     "execution_count": 4,
     "metadata": {},
     "output_type": "execute_result"
    }
   ],
   "source": [
    "house_train_data.head()"
   ]
  },
  {
   "cell_type": "code",
   "execution_count": 5,
   "metadata": {},
   "outputs": [
    {
     "data": {
      "text/plain": [
       "1460"
      ]
     },
     "execution_count": 5,
     "metadata": {},
     "output_type": "execute_result"
    }
   ],
   "source": [
    "len(house_train_data)"
   ]
  },
  {
   "cell_type": "code",
   "execution_count": 6,
   "metadata": {
    "scrolled": false
   },
   "outputs": [
    {
     "data": {
      "text/html": [
       "<div>\n",
       "<style scoped>\n",
       "    .dataframe tbody tr th:only-of-type {\n",
       "        vertical-align: middle;\n",
       "    }\n",
       "\n",
       "    .dataframe tbody tr th {\n",
       "        vertical-align: top;\n",
       "    }\n",
       "\n",
       "    .dataframe thead th {\n",
       "        text-align: right;\n",
       "    }\n",
       "</style>\n",
       "<table border=\"1\" class=\"dataframe\">\n",
       "  <thead>\n",
       "    <tr style=\"text-align: right;\">\n",
       "      <th></th>\n",
       "      <th>Id</th>\n",
       "      <th>MSSubClass</th>\n",
       "      <th>MSZoning</th>\n",
       "      <th>LotFrontage</th>\n",
       "      <th>LotArea</th>\n",
       "      <th>Street</th>\n",
       "      <th>Alley</th>\n",
       "      <th>LotShape</th>\n",
       "      <th>LandContour</th>\n",
       "      <th>Utilities</th>\n",
       "      <th>...</th>\n",
       "      <th>ScreenPorch</th>\n",
       "      <th>PoolArea</th>\n",
       "      <th>PoolQC</th>\n",
       "      <th>Fence</th>\n",
       "      <th>MiscFeature</th>\n",
       "      <th>MiscVal</th>\n",
       "      <th>MoSold</th>\n",
       "      <th>YrSold</th>\n",
       "      <th>SaleType</th>\n",
       "      <th>SaleCondition</th>\n",
       "    </tr>\n",
       "  </thead>\n",
       "  <tbody>\n",
       "    <tr>\n",
       "      <th>0</th>\n",
       "      <td>1461</td>\n",
       "      <td>20</td>\n",
       "      <td>RH</td>\n",
       "      <td>80.0</td>\n",
       "      <td>11622</td>\n",
       "      <td>Pave</td>\n",
       "      <td>NaN</td>\n",
       "      <td>Reg</td>\n",
       "      <td>Lvl</td>\n",
       "      <td>AllPub</td>\n",
       "      <td>...</td>\n",
       "      <td>120</td>\n",
       "      <td>0</td>\n",
       "      <td>NaN</td>\n",
       "      <td>MnPrv</td>\n",
       "      <td>NaN</td>\n",
       "      <td>0</td>\n",
       "      <td>6</td>\n",
       "      <td>2010</td>\n",
       "      <td>WD</td>\n",
       "      <td>Normal</td>\n",
       "    </tr>\n",
       "    <tr>\n",
       "      <th>1</th>\n",
       "      <td>1462</td>\n",
       "      <td>20</td>\n",
       "      <td>RL</td>\n",
       "      <td>81.0</td>\n",
       "      <td>14267</td>\n",
       "      <td>Pave</td>\n",
       "      <td>NaN</td>\n",
       "      <td>IR1</td>\n",
       "      <td>Lvl</td>\n",
       "      <td>AllPub</td>\n",
       "      <td>...</td>\n",
       "      <td>0</td>\n",
       "      <td>0</td>\n",
       "      <td>NaN</td>\n",
       "      <td>NaN</td>\n",
       "      <td>Gar2</td>\n",
       "      <td>12500</td>\n",
       "      <td>6</td>\n",
       "      <td>2010</td>\n",
       "      <td>WD</td>\n",
       "      <td>Normal</td>\n",
       "    </tr>\n",
       "    <tr>\n",
       "      <th>2</th>\n",
       "      <td>1463</td>\n",
       "      <td>60</td>\n",
       "      <td>RL</td>\n",
       "      <td>74.0</td>\n",
       "      <td>13830</td>\n",
       "      <td>Pave</td>\n",
       "      <td>NaN</td>\n",
       "      <td>IR1</td>\n",
       "      <td>Lvl</td>\n",
       "      <td>AllPub</td>\n",
       "      <td>...</td>\n",
       "      <td>0</td>\n",
       "      <td>0</td>\n",
       "      <td>NaN</td>\n",
       "      <td>MnPrv</td>\n",
       "      <td>NaN</td>\n",
       "      <td>0</td>\n",
       "      <td>3</td>\n",
       "      <td>2010</td>\n",
       "      <td>WD</td>\n",
       "      <td>Normal</td>\n",
       "    </tr>\n",
       "    <tr>\n",
       "      <th>3</th>\n",
       "      <td>1464</td>\n",
       "      <td>60</td>\n",
       "      <td>RL</td>\n",
       "      <td>78.0</td>\n",
       "      <td>9978</td>\n",
       "      <td>Pave</td>\n",
       "      <td>NaN</td>\n",
       "      <td>IR1</td>\n",
       "      <td>Lvl</td>\n",
       "      <td>AllPub</td>\n",
       "      <td>...</td>\n",
       "      <td>0</td>\n",
       "      <td>0</td>\n",
       "      <td>NaN</td>\n",
       "      <td>NaN</td>\n",
       "      <td>NaN</td>\n",
       "      <td>0</td>\n",
       "      <td>6</td>\n",
       "      <td>2010</td>\n",
       "      <td>WD</td>\n",
       "      <td>Normal</td>\n",
       "    </tr>\n",
       "    <tr>\n",
       "      <th>4</th>\n",
       "      <td>1465</td>\n",
       "      <td>120</td>\n",
       "      <td>RL</td>\n",
       "      <td>43.0</td>\n",
       "      <td>5005</td>\n",
       "      <td>Pave</td>\n",
       "      <td>NaN</td>\n",
       "      <td>IR1</td>\n",
       "      <td>HLS</td>\n",
       "      <td>AllPub</td>\n",
       "      <td>...</td>\n",
       "      <td>144</td>\n",
       "      <td>0</td>\n",
       "      <td>NaN</td>\n",
       "      <td>NaN</td>\n",
       "      <td>NaN</td>\n",
       "      <td>0</td>\n",
       "      <td>1</td>\n",
       "      <td>2010</td>\n",
       "      <td>WD</td>\n",
       "      <td>Normal</td>\n",
       "    </tr>\n",
       "  </tbody>\n",
       "</table>\n",
       "<p>5 rows × 80 columns</p>\n",
       "</div>"
      ],
      "text/plain": [
       "     Id  MSSubClass MSZoning  LotFrontage  LotArea Street Alley LotShape  \\\n",
       "0  1461          20       RH         80.0    11622   Pave   NaN      Reg   \n",
       "1  1462          20       RL         81.0    14267   Pave   NaN      IR1   \n",
       "2  1463          60       RL         74.0    13830   Pave   NaN      IR1   \n",
       "3  1464          60       RL         78.0     9978   Pave   NaN      IR1   \n",
       "4  1465         120       RL         43.0     5005   Pave   NaN      IR1   \n",
       "\n",
       "  LandContour Utilities  ... ScreenPorch PoolArea PoolQC  Fence MiscFeature  \\\n",
       "0         Lvl    AllPub  ...         120        0    NaN  MnPrv         NaN   \n",
       "1         Lvl    AllPub  ...           0        0    NaN    NaN        Gar2   \n",
       "2         Lvl    AllPub  ...           0        0    NaN  MnPrv         NaN   \n",
       "3         Lvl    AllPub  ...           0        0    NaN    NaN         NaN   \n",
       "4         HLS    AllPub  ...         144        0    NaN    NaN         NaN   \n",
       "\n",
       "  MiscVal MoSold  YrSold  SaleType  SaleCondition  \n",
       "0       0      6    2010        WD         Normal  \n",
       "1   12500      6    2010        WD         Normal  \n",
       "2       0      3    2010        WD         Normal  \n",
       "3       0      6    2010        WD         Normal  \n",
       "4       0      1    2010        WD         Normal  \n",
       "\n",
       "[5 rows x 80 columns]"
      ]
     },
     "execution_count": 6,
     "metadata": {},
     "output_type": "execute_result"
    }
   ],
   "source": [
    "house_test_data.head()"
   ]
  },
  {
   "cell_type": "code",
   "execution_count": 7,
   "metadata": {
    "scrolled": false
   },
   "outputs": [
    {
     "data": {
      "text/plain": [
       "Index(['Id', 'MSSubClass', 'MSZoning', 'LotFrontage', 'LotArea', 'Street',\n",
       "       'Alley', 'LotShape', 'LandContour', 'Utilities', 'LotConfig',\n",
       "       'LandSlope', 'Neighborhood', 'Condition1', 'Condition2', 'BldgType',\n",
       "       'HouseStyle', 'OverallQual', 'OverallCond', 'YearBuilt', 'YearRemodAdd',\n",
       "       'RoofStyle', 'RoofMatl', 'Exterior1st', 'Exterior2nd', 'MasVnrType',\n",
       "       'MasVnrArea', 'ExterQual', 'ExterCond', 'Foundation', 'BsmtQual',\n",
       "       'BsmtCond', 'BsmtExposure', 'BsmtFinType1', 'BsmtFinSF1',\n",
       "       'BsmtFinType2', 'BsmtFinSF2', 'BsmtUnfSF', 'TotalBsmtSF', 'Heating',\n",
       "       'HeatingQC', 'CentralAir', 'Electrical', '1stFlrSF', '2ndFlrSF',\n",
       "       'LowQualFinSF', 'GrLivArea', 'BsmtFullBath', 'BsmtHalfBath', 'FullBath',\n",
       "       'HalfBath', 'BedroomAbvGr', 'KitchenAbvGr', 'KitchenQual',\n",
       "       'TotRmsAbvGrd', 'Functional', 'Fireplaces', 'FireplaceQu', 'GarageType',\n",
       "       'GarageYrBlt', 'GarageFinish', 'GarageCars', 'GarageArea', 'GarageQual',\n",
       "       'GarageCond', 'PavedDrive', 'WoodDeckSF', 'OpenPorchSF',\n",
       "       'EnclosedPorch', '3SsnPorch', 'ScreenPorch', 'PoolArea', 'PoolQC',\n",
       "       'Fence', 'MiscFeature', 'MiscVal', 'MoSold', 'YrSold', 'SaleType',\n",
       "       'SaleCondition', 'SalePrice'],\n",
       "      dtype='object')"
      ]
     },
     "execution_count": 7,
     "metadata": {},
     "output_type": "execute_result"
    }
   ],
   "source": [
    "house_train_data.columns"
   ]
  },
  {
   "cell_type": "code",
   "execution_count": 8,
   "metadata": {},
   "outputs": [
    {
     "data": {
      "text/plain": [
       "1459"
      ]
     },
     "execution_count": 8,
     "metadata": {},
     "output_type": "execute_result"
    }
   ],
   "source": [
    "len(house_test_data)"
   ]
  },
  {
   "cell_type": "markdown",
   "metadata": {},
   "source": [
    "* MSSubClass : identifies the type of dwelling involved in the sale , categorical data\n",
    "* MSZoning : Identifies the general zoning classification of the sale, catgegorical data\n",
    "* LotFrontage : Linear feet of street connected to property, continous data\n",
    "* LotArea : Lot size in square feet, continous data\n",
    "* Street : Type of road access to property, catgegorical data\n",
    "* Alley : Type of alley access to property, categorical data, NA = 'No alley access'\n",
    "* LotShape : General shape of property, categorical data\n",
    "* LandContour : Flatness of the property, categorical data\n",
    "* Utilities : Type of utilities available categorical\n",
    "* LotConfig : Lot configuration, categorical\n",
    "* LandSlope : Slope of property, catgegorical\n",
    "* Neighborhood : Physical locations within Ames city limits, categorical\n",
    "* Condition1: Proximity to various conditions, categorical\n",
    "* Condition2: Proximity to various conditions (if more than one is present), categorical\n",
    "* BldgType: Type of dwelling, categorical\n",
    "* HouseStyle: Style of dwelling, categorical\n",
    "* OverallQual: Rates the overall material and finish of the house, ordinal\n",
    "* OverallCond: Rates the overall condition of the house, ordinal\n",
    "* YearBuilt: Original construction date, continous\n",
    "* YearRemodAdd: Remodel date (same as construction date if no remodeling or additions)\n",
    "* RoofStyle: Type of roof, categorical\n",
    "* RoofMatl: Roof material, categorical\n",
    "* Exterior1st: Exterior covering on house, categorical\n",
    "* Exterior2nd: Exterior covering on house (if more than one material), categorical\n",
    "* MasVnrType: Masonry veneer type, categorical\n",
    "* MasVnrArea: Masonry veneer area in square feet, continous\n",
    "* ExterQual: Evaluates the quality of the material on the exterior, ordinal\n",
    "* ExterCond: Evaluates the present condition of the material on the exterior, ordinal\n",
    "* Foundation: Type of foundation, categorical, ordinal , slab and concrete better\n",
    "* BsmtQual: Evaluates the height of the basement, ordinal\n",
    "* BsmtCond: Evaluates the general condition of the basement, ordinal\n",
    "* BsmtExposure: Refers to walkout or garden level walls, ordinal\n",
    "* BsmtFinType1: Rating of basement finished area, ordinal\n",
    "* BsmtFinSF1: Type 1 finished square feet, continous data and will not be used\n",
    "* BsmtFinType2: Rating of basement finished area (if multiple types), categorical, will not be used\n",
    "* BsmtFinSF2: Type 2 finished square feet\n",
    "* BsmtUnfSF: Unfinished square feet of basement area\n",
    "* TotalBsmtSF: Total square feet of basement area\n",
    "* Heating: Type of heating, categorical\n",
    "* HeatingQC: Heating quality and condition, ordinal\n",
    "* CentralAir: Central air conditioning, Y and N\n",
    "* Electrical: Electrical system, categorical , do not use\n",
    "* KitchenQual: Kitchen quality, ordinal\n",
    "* TotRmsAbvGrd: Total rooms above grade (does not include bathrooms), continous\n",
    "* Functional: Home functionality (Assume typical unless deductions are warranted), ordinal, may be used\n",
    "* Fireplaces: Number of fireplaces, continous\n",
    "* FireplaceQu: Fireplace quality, continous\n",
    "* GarageType: Garage location, continous\n",
    "* GarageYrBlt: Year garage was built, continous\n",
    "* GarageFinish: Interior finish of the garage, categorical/ ordinal\n",
    "* GarageCars: Size of garage in car capacity, continous\n",
    "* GarageArea: Size of garage in square feet, continous\n",
    "* GarageQual: Garage quality, ordinal NA = No Garage\n",
    "* GarageCond: Garage condition, ordinal\n",
    "* PavedDrive: Paved driveway, categorical\n",
    "* WoodDeckSF: Wood deck area in square feet, continous\n",
    "* OpenPorchSF: Open porch area in square feet, continous\n",
    "* EnclosedPorch: Enclosed porch area in square feet, continous\n",
    "* 3SsnPorch: Three season porch area in square feet, continous\n",
    "* ScreenPorch: Screen porch area in square feet\n",
    "* PoolArea: Pool area in square feet, continous\n",
    "* PoolQC: Pool quality, ordinal\n",
    "* Fence: Fence quality, ordinal\n",
    "* MiscFeature: Miscellaneous feature not covered in other categories, NA = None , categorical data\n",
    "* MiscVal: Value of miscellaneous feature, continous\n",
    "* MoSold: Month Sold (MM), categorical\n",
    "* YrSold: Year Sold (YYYY), continous\n",
    "* SaleType: Type of sale, categorical\n",
    "* SaleCondition: Condition of sale, categorical"
   ]
  },
  {
   "cell_type": "markdown",
   "metadata": {},
   "source": [
    "## Missing data imputation"
   ]
  },
  {
   "cell_type": "code",
   "execution_count": 9,
   "metadata": {
    "scrolled": true
   },
   "outputs": [
    {
     "data": {
      "text/plain": [
       "True"
      ]
     },
     "execution_count": 9,
     "metadata": {},
     "output_type": "execute_result"
    }
   ],
   "source": [
    "house_train_data.isnull().values.any()"
   ]
  },
  {
   "cell_type": "code",
   "execution_count": 10,
   "metadata": {
    "scrolled": true
   },
   "outputs": [
    {
     "data": {
      "text/plain": [
       "['LotFrontage',\n",
       " 'Alley',\n",
       " 'MasVnrType',\n",
       " 'MasVnrArea',\n",
       " 'BsmtQual',\n",
       " 'BsmtCond',\n",
       " 'BsmtExposure',\n",
       " 'BsmtFinType1',\n",
       " 'BsmtFinType2',\n",
       " 'Electrical',\n",
       " 'FireplaceQu',\n",
       " 'GarageType',\n",
       " 'GarageYrBlt',\n",
       " 'GarageFinish',\n",
       " 'GarageQual',\n",
       " 'GarageCond',\n",
       " 'PoolQC',\n",
       " 'Fence',\n",
       " 'MiscFeature']"
      ]
     },
     "execution_count": 10,
     "metadata": {},
     "output_type": "execute_result"
    }
   ],
   "source": [
    "house_train_data.columns[house_train_data.isnull().any()].tolist()"
   ]
  },
  {
   "cell_type": "code",
   "execution_count": 11,
   "metadata": {},
   "outputs": [
    {
     "data": {
      "text/plain": [
       "259"
      ]
     },
     "execution_count": 11,
     "metadata": {},
     "output_type": "execute_result"
    }
   ],
   "source": [
    "len(house_train_data[house_train_data.LotFrontage.isnull()])"
   ]
  },
  {
   "cell_type": "code",
   "execution_count": 12,
   "metadata": {},
   "outputs": [
    {
     "data": {
      "text/plain": [
       "0.1773972602739726"
      ]
     },
     "execution_count": 12,
     "metadata": {},
     "output_type": "execute_result"
    }
   ],
   "source": [
    "len(house_train_data[house_train_data.LotFrontage.isnull()])/len(house_train_data)"
   ]
  },
  {
   "cell_type": "markdown",
   "metadata": {},
   "source": [
    "* In the LotFrontage column, we will be using the mean to represent nan values"
   ]
  },
  {
   "cell_type": "code",
   "execution_count": 13,
   "metadata": {},
   "outputs": [],
   "source": [
    "house_train_data.LotFrontage.fillna(house_train_data.LotFrontage.median(), inplace=True)"
   ]
  },
  {
   "cell_type": "code",
   "execution_count": 14,
   "metadata": {},
   "outputs": [
    {
     "data": {
      "text/plain": [
       "False"
      ]
     },
     "execution_count": 14,
     "metadata": {},
     "output_type": "execute_result"
    }
   ],
   "source": [
    "house_train_data.LotFrontage.isnull().values.any()"
   ]
  },
  {
   "cell_type": "code",
   "execution_count": 15,
   "metadata": {
    "scrolled": true
   },
   "outputs": [
    {
     "data": {
      "text/plain": [
       "array([nan, 'Grvl', 'Pave'], dtype=object)"
      ]
     },
     "execution_count": 15,
     "metadata": {},
     "output_type": "execute_result"
    }
   ],
   "source": [
    "house_train_data.Alley.unique()"
   ]
  },
  {
   "cell_type": "code",
   "execution_count": 16,
   "metadata": {
    "scrolled": false
   },
   "outputs": [
    {
     "data": {
      "text/plain": [
       "0.9376712328767123"
      ]
     },
     "execution_count": 16,
     "metadata": {},
     "output_type": "execute_result"
    }
   ],
   "source": [
    "len(house_train_data[house_train_data.Alley.isnull()])/len(house_train_data)"
   ]
  },
  {
   "cell_type": "markdown",
   "metadata": {},
   "source": [
    "* SInce most of the data in Alley is null, we will discard this column"
   ]
  },
  {
   "cell_type": "code",
   "execution_count": 17,
   "metadata": {},
   "outputs": [],
   "source": [
    "del house_train_data['Alley']"
   ]
  },
  {
   "cell_type": "code",
   "execution_count": 18,
   "metadata": {},
   "outputs": [
    {
     "data": {
      "text/plain": [
       "array(['BrkFace', 'None', 'Stone', 'BrkCmn', nan], dtype=object)"
      ]
     },
     "execution_count": 18,
     "metadata": {},
     "output_type": "execute_result"
    }
   ],
   "source": [
    "house_train_data.MasVnrType.unique()"
   ]
  },
  {
   "cell_type": "code",
   "execution_count": 19,
   "metadata": {},
   "outputs": [
    {
     "data": {
      "text/plain": [
       "0.005479452054794521"
      ]
     },
     "execution_count": 19,
     "metadata": {},
     "output_type": "execute_result"
    }
   ],
   "source": [
    "len(house_train_data[house_train_data.MasVnrType.isnull()])/len(house_train_data)"
   ]
  },
  {
   "cell_type": "markdown",
   "metadata": {},
   "source": [
    "* we will use mode to replace nan with the mode of the column"
   ]
  },
  {
   "cell_type": "code",
   "execution_count": 20,
   "metadata": {},
   "outputs": [],
   "source": [
    "house_train_data['MasVnrType'].fillna(house_train_data['MasVnrType'].mode()[0], inplace = True)"
   ]
  },
  {
   "cell_type": "code",
   "execution_count": 21,
   "metadata": {},
   "outputs": [
    {
     "data": {
      "text/plain": [
       "False"
      ]
     },
     "execution_count": 21,
     "metadata": {},
     "output_type": "execute_result"
    }
   ],
   "source": [
    "house_train_data.MasVnrType.isnull().values.any()"
   ]
  },
  {
   "cell_type": "code",
   "execution_count": 22,
   "metadata": {},
   "outputs": [
    {
     "data": {
      "text/plain": [
       "0.005479452054794521"
      ]
     },
     "execution_count": 22,
     "metadata": {},
     "output_type": "execute_result"
    }
   ],
   "source": [
    "len(house_train_data[house_train_data.MasVnrArea.isnull()])/len(house_train_data)"
   ]
  },
  {
   "cell_type": "code",
   "execution_count": 23,
   "metadata": {},
   "outputs": [],
   "source": [
    "house_train_data.MasVnrArea.fillna(house_train_data.MasVnrArea.median(), inplace=True)"
   ]
  },
  {
   "cell_type": "code",
   "execution_count": 24,
   "metadata": {},
   "outputs": [
    {
     "data": {
      "text/plain": [
       "array(['Gd', 'TA', 'Ex', nan, 'Fa'], dtype=object)"
      ]
     },
     "execution_count": 24,
     "metadata": {},
     "output_type": "execute_result"
    }
   ],
   "source": [
    "house_train_data.BsmtQual.unique()"
   ]
  },
  {
   "cell_type": "code",
   "execution_count": 25,
   "metadata": {},
   "outputs": [],
   "source": [
    "base_cols = ['BsmtQual','BsmtCond','BsmtExposure','BsmtFinType1','BsmtFinType2']"
   ]
  },
  {
   "cell_type": "code",
   "execution_count": 26,
   "metadata": {},
   "outputs": [
    {
     "data": {
      "text/plain": [
       "0.025342465753424658"
      ]
     },
     "execution_count": 26,
     "metadata": {},
     "output_type": "execute_result"
    }
   ],
   "source": [
    "len(house_train_data[house_train_data.BsmtQual.isnull()])/len(house_train_data)"
   ]
  },
  {
   "cell_type": "code",
   "execution_count": 27,
   "metadata": {},
   "outputs": [],
   "source": [
    "for col in base_cols:\n",
    "    house_train_data[col].fillna('No Basement', inplace=True)"
   ]
  },
  {
   "cell_type": "code",
   "execution_count": 28,
   "metadata": {},
   "outputs": [
    {
     "data": {
      "text/plain": [
       "False"
      ]
     },
     "execution_count": 28,
     "metadata": {},
     "output_type": "execute_result"
    }
   ],
   "source": [
    "house_train_data.BsmtQual.isnull().values.any()"
   ]
  },
  {
   "cell_type": "code",
   "execution_count": 29,
   "metadata": {},
   "outputs": [
    {
     "data": {
      "text/plain": [
       "0.4726027397260274"
      ]
     },
     "execution_count": 29,
     "metadata": {},
     "output_type": "execute_result"
    }
   ],
   "source": [
    "len(house_train_data[house_train_data.FireplaceQu.isnull()])/len(house_train_data)"
   ]
  },
  {
   "cell_type": "markdown",
   "metadata": {},
   "source": [
    "* Since half of the data in FireplaceQu is null, we will discard this column"
   ]
  },
  {
   "cell_type": "code",
   "execution_count": 30,
   "metadata": {},
   "outputs": [],
   "source": [
    "del house_train_data['FireplaceQu']"
   ]
  },
  {
   "cell_type": "code",
   "execution_count": 31,
   "metadata": {},
   "outputs": [
    {
     "data": {
      "text/plain": [
       "0.0006849315068493151"
      ]
     },
     "execution_count": 31,
     "metadata": {},
     "output_type": "execute_result"
    }
   ],
   "source": [
    "len(house_train_data[house_train_data.Electrical.isnull()])/len(house_train_data)"
   ]
  },
  {
   "cell_type": "code",
   "execution_count": 32,
   "metadata": {},
   "outputs": [],
   "source": [
    "house_train_data['Electrical'].fillna(house_train_data['Electrical'].mode()[0], inplace=True)"
   ]
  },
  {
   "cell_type": "code",
   "execution_count": 33,
   "metadata": {},
   "outputs": [],
   "source": [
    "garage_cols = ['GarageType','GarageFinish','GarageQual','GarageCond']"
   ]
  },
  {
   "cell_type": "code",
   "execution_count": 34,
   "metadata": {},
   "outputs": [
    {
     "data": {
      "text/plain": [
       "0.05547945205479452"
      ]
     },
     "execution_count": 34,
     "metadata": {},
     "output_type": "execute_result"
    }
   ],
   "source": [
    "len(house_train_data[house_train_data.GarageFinish.isnull()])/len(house_train_data)"
   ]
  },
  {
   "cell_type": "code",
   "execution_count": 35,
   "metadata": {},
   "outputs": [],
   "source": [
    "for col in garage_cols:\n",
    "    house_train_data[col].fillna('No Garage', inplace=True)"
   ]
  },
  {
   "cell_type": "code",
   "execution_count": 36,
   "metadata": {},
   "outputs": [],
   "source": [
    "house_train_data.GarageYrBlt.fillna(house_train_data.GarageYrBlt.median(), inplace=True)"
   ]
  },
  {
   "cell_type": "code",
   "execution_count": 37,
   "metadata": {},
   "outputs": [
    {
     "data": {
      "text/plain": [
       "0.9952054794520548"
      ]
     },
     "execution_count": 37,
     "metadata": {},
     "output_type": "execute_result"
    }
   ],
   "source": [
    "len(house_train_data[house_train_data.PoolQC.isnull()])/len(house_train_data)"
   ]
  },
  {
   "cell_type": "markdown",
   "metadata": {},
   "source": [
    "Since most of the data in PoolQc is null, we will discard this column"
   ]
  },
  {
   "cell_type": "code",
   "execution_count": 38,
   "metadata": {},
   "outputs": [],
   "source": [
    "del house_train_data['PoolQC']"
   ]
  },
  {
   "cell_type": "code",
   "execution_count": 39,
   "metadata": {},
   "outputs": [
    {
     "data": {
      "text/plain": [
       "0.8075342465753425"
      ]
     },
     "execution_count": 39,
     "metadata": {},
     "output_type": "execute_result"
    }
   ],
   "source": [
    "len(house_train_data[house_train_data.Fence.isnull()])/len(house_train_data)"
   ]
  },
  {
   "cell_type": "markdown",
   "metadata": {},
   "source": [
    "Since most of the data in Fence is null, we will discard this column"
   ]
  },
  {
   "cell_type": "code",
   "execution_count": 40,
   "metadata": {},
   "outputs": [],
   "source": [
    "del house_train_data['Fence']"
   ]
  },
  {
   "cell_type": "code",
   "execution_count": 41,
   "metadata": {},
   "outputs": [
    {
     "data": {
      "text/plain": [
       "0.963013698630137"
      ]
     },
     "execution_count": 41,
     "metadata": {},
     "output_type": "execute_result"
    }
   ],
   "source": [
    "len(house_train_data[house_train_data.MiscFeature.isnull()])/len(house_train_data)"
   ]
  },
  {
   "cell_type": "markdown",
   "metadata": {},
   "source": [
    "Since most of the data in MiscFeature is null, we will discard this column"
   ]
  },
  {
   "cell_type": "code",
   "execution_count": 42,
   "metadata": {},
   "outputs": [],
   "source": [
    "del house_train_data['MiscFeature']"
   ]
  },
  {
   "cell_type": "code",
   "execution_count": 43,
   "metadata": {},
   "outputs": [
    {
     "data": {
      "text/plain": [
       "False"
      ]
     },
     "execution_count": 43,
     "metadata": {},
     "output_type": "execute_result"
    }
   ],
   "source": [
    "house_train_data.isnull().values.any()"
   ]
  },
  {
   "cell_type": "markdown",
   "metadata": {},
   "source": [
    "Columns deleted thus far are Fence, MiscFeature, PoolQC, And FireplaceQu and Alley"
   ]
  },
  {
   "cell_type": "code",
   "execution_count": 44,
   "metadata": {},
   "outputs": [],
   "source": [
    "# we will delete these columns from test data\n",
    "\n",
    "del house_test_data['Alley']\n",
    "del house_test_data['FireplaceQu']\n",
    "del house_test_data['PoolQC']\n",
    "del house_test_data['Fence']\n",
    "del house_test_data['MiscFeature']"
   ]
  },
  {
   "cell_type": "code",
   "execution_count": 45,
   "metadata": {
    "scrolled": true
   },
   "outputs": [
    {
     "data": {
      "text/plain": [
       "['MSZoning',\n",
       " 'LotFrontage',\n",
       " 'Utilities',\n",
       " 'Exterior1st',\n",
       " 'Exterior2nd',\n",
       " 'MasVnrType',\n",
       " 'MasVnrArea',\n",
       " 'BsmtQual',\n",
       " 'BsmtCond',\n",
       " 'BsmtExposure',\n",
       " 'BsmtFinType1',\n",
       " 'BsmtFinSF1',\n",
       " 'BsmtFinType2',\n",
       " 'BsmtFinSF2',\n",
       " 'BsmtUnfSF',\n",
       " 'TotalBsmtSF',\n",
       " 'BsmtFullBath',\n",
       " 'BsmtHalfBath',\n",
       " 'KitchenQual',\n",
       " 'Functional',\n",
       " 'GarageType',\n",
       " 'GarageYrBlt',\n",
       " 'GarageFinish',\n",
       " 'GarageCars',\n",
       " 'GarageArea',\n",
       " 'GarageQual',\n",
       " 'GarageCond',\n",
       " 'SaleType']"
      ]
     },
     "execution_count": 45,
     "metadata": {},
     "output_type": "execute_result"
    }
   ],
   "source": [
    "house_test_data.columns[house_test_data.isnull().any()].tolist()"
   ]
  },
  {
   "cell_type": "code",
   "execution_count": 46,
   "metadata": {},
   "outputs": [],
   "source": [
    "columns_test_check = house_test_data.columns[house_test_data.isnull().any()].tolist()"
   ]
  },
  {
   "cell_type": "code",
   "execution_count": 47,
   "metadata": {},
   "outputs": [
    {
     "name": "stdout",
     "output_type": "stream",
     "text": [
      "MSZoning 0.0027416038382453737\n",
      "LotFrontage 0.15558601782042494\n",
      "Utilities 0.0013708019191226869\n",
      "Exterior1st 0.0006854009595613434\n",
      "Exterior2nd 0.0006854009595613434\n",
      "MasVnrType 0.010966415352981495\n",
      "MasVnrArea 0.01028101439342015\n",
      "BsmtQual 0.03015764222069911\n",
      "BsmtCond 0.030843043180260453\n",
      "BsmtExposure 0.03015764222069911\n",
      "BsmtFinType1 0.02878684030157642\n",
      "BsmtFinSF1 0.0006854009595613434\n",
      "BsmtFinType2 0.02878684030157642\n",
      "BsmtFinSF2 0.0006854009595613434\n",
      "BsmtUnfSF 0.0006854009595613434\n",
      "TotalBsmtSF 0.0006854009595613434\n",
      "BsmtFullBath 0.0013708019191226869\n",
      "BsmtHalfBath 0.0013708019191226869\n",
      "KitchenQual 0.0006854009595613434\n",
      "Functional 0.0013708019191226869\n",
      "GarageType 0.0520904729266621\n",
      "GarageYrBlt 0.053461274845784786\n",
      "GarageFinish 0.053461274845784786\n",
      "GarageCars 0.0006854009595613434\n",
      "GarageArea 0.0006854009595613434\n",
      "GarageQual 0.053461274845784786\n",
      "GarageCond 0.053461274845784786\n",
      "SaleType 0.0006854009595613434\n"
     ]
    }
   ],
   "source": [
    "for col in columns_test_check:\n",
    "    print(col, len(house_test_data[house_test_data[col].isnull()])/len(house_test_data) )"
   ]
  },
  {
   "cell_type": "markdown",
   "metadata": {},
   "source": [
    "we could use all columns but we need to make sure we delete columns which were removed in train data"
   ]
  },
  {
   "cell_type": "code",
   "execution_count": 48,
   "metadata": {},
   "outputs": [],
   "source": [
    "mode_cols_test = ['MSZoning', 'Utilities', 'Exterior1st', 'Exterior2nd', 'MasVnrType', 'BsmtFinSF1', 'BsmtFinSF2',\n",
    "                  'BsmtUnfSF','TotalBsmtSF','KitchenQual','Functional', 'SaleType']\n",
    "mean_cols_test = ['LotFrontage', 'MasVnrArea','BsmtFullBath','BsmtHalfBath','GarageYrBlt','GarageCars',\n",
    "                  'GarageArea',]\n",
    "no_base_cols = ['BsmtQual','BsmtCond','BsmtExposure','BsmtFinType1','BsmtFinType2']"
   ]
  },
  {
   "cell_type": "code",
   "execution_count": 49,
   "metadata": {},
   "outputs": [],
   "source": [
    "garage_cols = ['GarageType','GarageFinish', 'GarageQual','GarageCond']"
   ]
  },
  {
   "cell_type": "code",
   "execution_count": 50,
   "metadata": {},
   "outputs": [],
   "source": [
    "for col in mode_cols_test:\n",
    "    house_test_data[col].fillna(house_test_data[col].mode()[0], inplace=True)"
   ]
  },
  {
   "cell_type": "code",
   "execution_count": 51,
   "metadata": {},
   "outputs": [],
   "source": [
    "for col in mean_cols_test:\n",
    "    house_test_data[col].fillna(house_test_data[col].median(), inplace=True)"
   ]
  },
  {
   "cell_type": "code",
   "execution_count": 52,
   "metadata": {},
   "outputs": [],
   "source": [
    "for col in no_base_cols:\n",
    "    house_test_data[col].fillna('No Basement', inplace=True)"
   ]
  },
  {
   "cell_type": "code",
   "execution_count": 53,
   "metadata": {},
   "outputs": [],
   "source": [
    "for col in garage_cols:\n",
    "    house_test_data[col].fillna('No Garage', inplace=True)"
   ]
  },
  {
   "cell_type": "code",
   "execution_count": 54,
   "metadata": {},
   "outputs": [
    {
     "data": {
      "text/plain": [
       "False"
      ]
     },
     "execution_count": 54,
     "metadata": {},
     "output_type": "execute_result"
    }
   ],
   "source": [
    "house_test_data.isnull().values.any()"
   ]
  },
  {
   "cell_type": "markdown",
   "metadata": {},
   "source": [
    "* All missing and null values are taken care of in both the test and training data."
   ]
  },
  {
   "cell_type": "markdown",
   "metadata": {},
   "source": [
    "## Feature selection"
   ]
  },
  {
   "cell_type": "markdown",
   "metadata": {},
   "source": [
    "* what 5 features we can produce from the existing features.\n",
    "* will use the following features to predict house price based on prior knowledge\n",
    "* usually house price is dictated by the type of house, roof quality, exterior material, and lot area.\n"
   ]
  },
  {
   "cell_type": "markdown",
   "metadata": {},
   "source": [
    "* MSSubClass, LotArea, Street, LandContour, Utilities, Neighborhood, BldgType, OverallQual, YearRemodAdd,\n",
    "* RoofMatl, ExterQual, Foundation, BsmtQual, BsmtExposure, BsmtFinType1, TotalBsmtSF, HeatingQC, CentralAir, \n",
    "* KitchenQual, TotRmsAbvGrd, GarageArea, GarageQual"
   ]
  },
  {
   "cell_type": "markdown",
   "metadata": {},
   "source": [
    "* the features above will be analyzed to and possibly used as features to predict sale price.\n"
   ]
  },
  {
   "cell_type": "code",
   "execution_count": 55,
   "metadata": {
    "scrolled": true
   },
   "outputs": [
    {
     "data": {
      "text/plain": [
       "Index(['Id', 'MSSubClass', 'MSZoning', 'LotFrontage', 'LotArea', 'Street',\n",
       "       'LotShape', 'LandContour', 'Utilities', 'LotConfig', 'LandSlope',\n",
       "       'Neighborhood', 'Condition1', 'Condition2', 'BldgType', 'HouseStyle',\n",
       "       'OverallQual', 'OverallCond', 'YearBuilt', 'YearRemodAdd', 'RoofStyle',\n",
       "       'RoofMatl', 'Exterior1st', 'Exterior2nd', 'MasVnrType', 'MasVnrArea',\n",
       "       'ExterQual', 'ExterCond', 'Foundation', 'BsmtQual', 'BsmtCond',\n",
       "       'BsmtExposure', 'BsmtFinType1', 'BsmtFinSF1', 'BsmtFinType2',\n",
       "       'BsmtFinSF2', 'BsmtUnfSF', 'TotalBsmtSF', 'Heating', 'HeatingQC',\n",
       "       'CentralAir', 'Electrical', '1stFlrSF', '2ndFlrSF', 'LowQualFinSF',\n",
       "       'GrLivArea', 'BsmtFullBath', 'BsmtHalfBath', 'FullBath', 'HalfBath',\n",
       "       'BedroomAbvGr', 'KitchenAbvGr', 'KitchenQual', 'TotRmsAbvGrd',\n",
       "       'Functional', 'Fireplaces', 'GarageType', 'GarageYrBlt', 'GarageFinish',\n",
       "       'GarageCars', 'GarageArea', 'GarageQual', 'GarageCond', 'PavedDrive',\n",
       "       'WoodDeckSF', 'OpenPorchSF', 'EnclosedPorch', '3SsnPorch',\n",
       "       'ScreenPorch', 'PoolArea', 'MiscVal', 'MoSold', 'YrSold', 'SaleType',\n",
       "       'SaleCondition', 'SalePrice'],\n",
       "      dtype='object')"
      ]
     },
     "execution_count": 55,
     "metadata": {},
     "output_type": "execute_result"
    }
   ],
   "source": [
    "house_train_data.columns"
   ]
  },
  {
   "cell_type": "code",
   "execution_count": 56,
   "metadata": {
    "scrolled": true
   },
   "outputs": [
    {
     "data": {
      "text/plain": [
       "Id               1.777550e+05\n",
       "MSSubClass       1.789338e+03\n",
       "LotFrontage      4.852186e+02\n",
       "LotArea          9.962565e+07\n",
       "OverallQual      1.912679e+00\n",
       "OverallCond      1.238322e+00\n",
       "YearBuilt        9.122154e+02\n",
       "YearRemodAdd     4.262328e+02\n",
       "MasVnrArea       3.266383e+04\n",
       "BsmtFinSF1       2.080255e+05\n",
       "BsmtFinSF2       2.602391e+04\n",
       "BsmtUnfSF        1.952464e+05\n",
       "TotalBsmtSF      1.924624e+05\n",
       "1stFlrSF         1.494501e+05\n",
       "2ndFlrSF         1.905571e+05\n",
       "LowQualFinSF     2.364204e+03\n",
       "GrLivArea        2.761296e+05\n",
       "BsmtFullBath     2.692682e-01\n",
       "BsmtHalfBath     5.700283e-02\n",
       "FullBath         3.035082e-01\n",
       "HalfBath         2.528937e-01\n",
       "BedroomAbvGr     6.654938e-01\n",
       "KitchenAbvGr     4.854892e-02\n",
       "TotRmsAbvGrd     2.641903e+00\n",
       "Fireplaces       4.155947e-01\n",
       "GarageYrBlt      5.758570e+02\n",
       "GarageCars       5.584797e-01\n",
       "GarageArea       4.571251e+04\n",
       "WoodDeckSF       1.570981e+04\n",
       "OpenPorchSF      4.389861e+03\n",
       "EnclosedPorch    3.735550e+03\n",
       "3SsnPorch        8.595059e+02\n",
       "ScreenPorch      3.108889e+03\n",
       "PoolArea         1.614216e+03\n",
       "MiscVal          2.461381e+05\n",
       "MoSold           7.309595e+00\n",
       "YrSold           1.763837e+00\n",
       "SalePrice        6.311111e+09\n",
       "dtype: float64"
      ]
     },
     "execution_count": 56,
     "metadata": {},
     "output_type": "execute_result"
    }
   ],
   "source": [
    "house_train_data.var()"
   ]
  },
  {
   "cell_type": "code",
   "execution_count": 57,
   "metadata": {},
   "outputs": [],
   "source": [
    "columns_del_var = ['BsmtFullBath', 'BsmtHalfBath','FullBath','HalfBath','KitchenAbvGr', 'Fireplaces']\n",
    "for col in columns_del_var:\n",
    "    del house_test_data[col]\n",
    "    del house_train_data[col]"
   ]
  },
  {
   "cell_type": "code",
   "execution_count": 58,
   "metadata": {
    "scrolled": true
   },
   "outputs": [
    {
     "data": {
      "text/plain": [
       "Id               1.775117e+05\n",
       "MSSubClass       1.827296e+03\n",
       "LotFrontage      4.230924e+02\n",
       "LotArea          2.455715e+07\n",
       "OverallQual      2.064428e+00\n",
       "OverallCond      1.240416e+00\n",
       "YearBuilt        9.235564e+02\n",
       "YearRemodAdd     4.464966e+02\n",
       "MasVnrArea       3.132963e+04\n",
       "BsmtFinSF1       2.072590e+05\n",
       "BsmtFinSF2       3.122242e+04\n",
       "BsmtUnfSF        1.912762e+05\n",
       "TotalBsmtSF      1.967747e+05\n",
       "1stFlrSF         1.585360e+05\n",
       "2ndFlrSF         1.769130e+05\n",
       "LowQualFinSF     1.939808e+03\n",
       "GrLivArea        2.357744e+05\n",
       "BedroomAbvGr     6.885487e-01\n",
       "TotRmsAbvGrd     2.276763e+00\n",
       "GarageYrBlt      6.613158e+02\n",
       "GarageCars       6.017153e-01\n",
       "GarageArea       4.707782e+04\n",
       "WoodDeckSF       1.631875e+04\n",
       "OpenPorchSF      4.744918e+03\n",
       "EnclosedPorch    4.519572e+03\n",
       "3SsnPorch        4.083569e+02\n",
       "ScreenPorch      3.204665e+03\n",
       "PoolArea         9.297405e+02\n",
       "MiscVal          3.979174e+05\n",
       "MoSold           7.411635e+00\n",
       "YrSold           1.694527e+00\n",
       "dtype: float64"
      ]
     },
     "execution_count": 58,
     "metadata": {},
     "output_type": "execute_result"
    }
   ],
   "source": [
    "house_test_data.var()"
   ]
  },
  {
   "cell_type": "code",
   "execution_count": 59,
   "metadata": {},
   "outputs": [],
   "source": [
    "#del house_test_data['Id']\n",
    "del house_train_data['Id']"
   ]
  },
  {
   "cell_type": "markdown",
   "metadata": {},
   "source": [
    "## New features"
   ]
  },
  {
   "cell_type": "code",
   "execution_count": 60,
   "metadata": {
    "scrolled": true
   },
   "outputs": [
    {
     "name": "stdout",
     "output_type": "stream",
     "text": [
      "<class 'pandas.core.frame.DataFrame'>\n",
      "RangeIndex: 1460 entries, 0 to 1459\n",
      "Data columns (total 69 columns):\n",
      " #   Column         Non-Null Count  Dtype  \n",
      "---  ------         --------------  -----  \n",
      " 0   MSSubClass     1460 non-null   int64  \n",
      " 1   MSZoning       1460 non-null   object \n",
      " 2   LotFrontage    1460 non-null   float64\n",
      " 3   LotArea        1460 non-null   int64  \n",
      " 4   Street         1460 non-null   object \n",
      " 5   LotShape       1460 non-null   object \n",
      " 6   LandContour    1460 non-null   object \n",
      " 7   Utilities      1460 non-null   object \n",
      " 8   LotConfig      1460 non-null   object \n",
      " 9   LandSlope      1460 non-null   object \n",
      " 10  Neighborhood   1460 non-null   object \n",
      " 11  Condition1     1460 non-null   object \n",
      " 12  Condition2     1460 non-null   object \n",
      " 13  BldgType       1460 non-null   object \n",
      " 14  HouseStyle     1460 non-null   object \n",
      " 15  OverallQual    1460 non-null   int64  \n",
      " 16  OverallCond    1460 non-null   int64  \n",
      " 17  YearBuilt      1460 non-null   int64  \n",
      " 18  YearRemodAdd   1460 non-null   int64  \n",
      " 19  RoofStyle      1460 non-null   object \n",
      " 20  RoofMatl       1460 non-null   object \n",
      " 21  Exterior1st    1460 non-null   object \n",
      " 22  Exterior2nd    1460 non-null   object \n",
      " 23  MasVnrType     1460 non-null   object \n",
      " 24  MasVnrArea     1460 non-null   float64\n",
      " 25  ExterQual      1460 non-null   object \n",
      " 26  ExterCond      1460 non-null   object \n",
      " 27  Foundation     1460 non-null   object \n",
      " 28  BsmtQual       1460 non-null   object \n",
      " 29  BsmtCond       1460 non-null   object \n",
      " 30  BsmtExposure   1460 non-null   object \n",
      " 31  BsmtFinType1   1460 non-null   object \n",
      " 32  BsmtFinSF1     1460 non-null   int64  \n",
      " 33  BsmtFinType2   1460 non-null   object \n",
      " 34  BsmtFinSF2     1460 non-null   int64  \n",
      " 35  BsmtUnfSF      1460 non-null   int64  \n",
      " 36  TotalBsmtSF    1460 non-null   int64  \n",
      " 37  Heating        1460 non-null   object \n",
      " 38  HeatingQC      1460 non-null   object \n",
      " 39  CentralAir     1460 non-null   object \n",
      " 40  Electrical     1460 non-null   object \n",
      " 41  1stFlrSF       1460 non-null   int64  \n",
      " 42  2ndFlrSF       1460 non-null   int64  \n",
      " 43  LowQualFinSF   1460 non-null   int64  \n",
      " 44  GrLivArea      1460 non-null   int64  \n",
      " 45  BedroomAbvGr   1460 non-null   int64  \n",
      " 46  KitchenQual    1460 non-null   object \n",
      " 47  TotRmsAbvGrd   1460 non-null   int64  \n",
      " 48  Functional     1460 non-null   object \n",
      " 49  GarageType     1460 non-null   object \n",
      " 50  GarageYrBlt    1460 non-null   float64\n",
      " 51  GarageFinish   1460 non-null   object \n",
      " 52  GarageCars     1460 non-null   int64  \n",
      " 53  GarageArea     1460 non-null   int64  \n",
      " 54  GarageQual     1460 non-null   object \n",
      " 55  GarageCond     1460 non-null   object \n",
      " 56  PavedDrive     1460 non-null   object \n",
      " 57  WoodDeckSF     1460 non-null   int64  \n",
      " 58  OpenPorchSF    1460 non-null   int64  \n",
      " 59  EnclosedPorch  1460 non-null   int64  \n",
      " 60  3SsnPorch      1460 non-null   int64  \n",
      " 61  ScreenPorch    1460 non-null   int64  \n",
      " 62  PoolArea       1460 non-null   int64  \n",
      " 63  MiscVal        1460 non-null   int64  \n",
      " 64  MoSold         1460 non-null   int64  \n",
      " 65  YrSold         1460 non-null   int64  \n",
      " 66  SaleType       1460 non-null   object \n",
      " 67  SaleCondition  1460 non-null   object \n",
      " 68  SalePrice      1460 non-null   int64  \n",
      "dtypes: float64(3), int64(28), object(38)\n",
      "memory usage: 787.2+ KB\n"
     ]
    }
   ],
   "source": [
    "house_train_data.info()"
   ]
  },
  {
   "cell_type": "code",
   "execution_count": 61,
   "metadata": {
    "scrolled": true
   },
   "outputs": [],
   "source": [
    "\n",
    "#house_train_data.select_dtypes('float').columns\n",
    "\n",
    "int_columns_train = house_train_data.select_dtypes(exclude='object').columns[:-1]\n",
    "int_columns_test = house_test_data.select_dtypes(exclude='object').columns[1:]"
   ]
  },
  {
   "cell_type": "code",
   "execution_count": 62,
   "metadata": {
    "scrolled": true
   },
   "outputs": [
    {
     "data": {
      "text/plain": [
       "Index(['MSSubClass', 'LotFrontage', 'LotArea', 'OverallQual', 'OverallCond',\n",
       "       'YearBuilt', 'YearRemodAdd', 'MasVnrArea', 'BsmtFinSF1', 'BsmtFinSF2',\n",
       "       'BsmtUnfSF', 'TotalBsmtSF', '1stFlrSF', '2ndFlrSF', 'LowQualFinSF',\n",
       "       'GrLivArea', 'BedroomAbvGr', 'TotRmsAbvGrd', 'GarageYrBlt',\n",
       "       'GarageCars', 'GarageArea', 'WoodDeckSF', 'OpenPorchSF',\n",
       "       'EnclosedPorch', '3SsnPorch', 'ScreenPorch', 'PoolArea', 'MiscVal',\n",
       "       'MoSold', 'YrSold'],\n",
       "      dtype='object')"
      ]
     },
     "execution_count": 62,
     "metadata": {},
     "output_type": "execute_result"
    }
   ],
   "source": [
    "int_columns_train"
   ]
  },
  {
   "cell_type": "code",
   "execution_count": 63,
   "metadata": {},
   "outputs": [
    {
     "data": {
      "text/plain": [
       "Index(['MSSubClass', 'LotFrontage', 'LotArea', 'OverallQual', 'OverallCond',\n",
       "       'YearBuilt', 'YearRemodAdd', 'MasVnrArea', 'BsmtFinSF1', 'BsmtFinSF2',\n",
       "       'BsmtUnfSF', 'TotalBsmtSF', '1stFlrSF', '2ndFlrSF', 'LowQualFinSF',\n",
       "       'GrLivArea', 'BedroomAbvGr', 'TotRmsAbvGrd', 'GarageYrBlt',\n",
       "       'GarageCars', 'GarageArea', 'WoodDeckSF', 'OpenPorchSF',\n",
       "       'EnclosedPorch', '3SsnPorch', 'ScreenPorch', 'PoolArea', 'MiscVal',\n",
       "       'MoSold', 'YrSold'],\n",
       "      dtype='object')"
      ]
     },
     "execution_count": 63,
     "metadata": {},
     "output_type": "execute_result"
    }
   ],
   "source": [
    "int_columns_test"
   ]
  },
  {
   "cell_type": "markdown",
   "metadata": {},
   "source": [
    "#### The standardization will be conducted before processing the data to check any highly correlated features and variances. \n"
   ]
  },
  {
   "cell_type": "code",
   "execution_count": 64,
   "metadata": {},
   "outputs": [],
   "source": [
    "from sklearn.preprocessing import StandardScaler\n",
    "scaler = StandardScaler()\n",
    "\n",
    "for col in int_columns_train:\n",
    "    temp_col = scaler.fit_transform(house_train_data[col].to_numpy().reshape(-1,1))\n",
    "    house_train_data.drop(house_train_data[[col]],axis = 1 , inplace= True)\n",
    "    house_train_data[col] = temp_col"
   ]
  },
  {
   "cell_type": "code",
   "execution_count": 65,
   "metadata": {},
   "outputs": [],
   "source": [
    "for col in int_columns_test:\n",
    "    temp_col = scaler.fit_transform(house_test_data[col].to_numpy().reshape(-1,1))\n",
    "    house_test_data.drop(house_test_data[[col]],axis = 1 , inplace= True)\n",
    "    house_test_data[col] = temp_col"
   ]
  },
  {
   "cell_type": "code",
   "execution_count": 66,
   "metadata": {},
   "outputs": [
    {
     "data": {
      "text/plain": [
       "SalePrice        1.000000\n",
       "MSSubClass      -0.084284\n",
       "LotFrontage      0.334771\n",
       "LotArea          0.263843\n",
       "OverallQual      0.790982\n",
       "OverallCond     -0.077856\n",
       "YearBuilt        0.522897\n",
       "YearRemodAdd     0.507101\n",
       "MasVnrArea       0.472614\n",
       "BsmtFinSF1       0.386420\n",
       "BsmtFinSF2      -0.011378\n",
       "BsmtUnfSF        0.214479\n",
       "TotalBsmtSF      0.613581\n",
       "1stFlrSF         0.605852\n",
       "2ndFlrSF         0.319334\n",
       "LowQualFinSF    -0.025606\n",
       "GrLivArea        0.708624\n",
       "BedroomAbvGr     0.168213\n",
       "TotRmsAbvGrd     0.533723\n",
       "GarageYrBlt      0.466754\n",
       "GarageCars       0.640409\n",
       "GarageArea       0.623431\n",
       "WoodDeckSF       0.324413\n",
       "OpenPorchSF      0.315856\n",
       "EnclosedPorch   -0.128578\n",
       "3SsnPorch        0.044584\n",
       "ScreenPorch      0.111447\n",
       "PoolArea         0.092404\n",
       "MiscVal         -0.021190\n",
       "MoSold           0.046432\n",
       "YrSold          -0.028923\n",
       "dtype: float64"
      ]
     },
     "execution_count": 66,
     "metadata": {},
     "output_type": "execute_result"
    }
   ],
   "source": [
    "house_train_data.corrwith(house_train_data.SalePrice)"
   ]
  },
  {
   "cell_type": "code",
   "execution_count": 67,
   "metadata": {},
   "outputs": [
    {
     "name": "stdout",
     "output_type": "stream",
     "text": [
      "<class 'pandas.core.frame.DataFrame'>\n",
      "RangeIndex: 1459 entries, 0 to 1458\n",
      "Data columns (total 69 columns):\n",
      " #   Column         Non-Null Count  Dtype  \n",
      "---  ------         --------------  -----  \n",
      " 0   Id             1459 non-null   int64  \n",
      " 1   MSZoning       1459 non-null   object \n",
      " 2   Street         1459 non-null   object \n",
      " 3   LotShape       1459 non-null   object \n",
      " 4   LandContour    1459 non-null   object \n",
      " 5   Utilities      1459 non-null   object \n",
      " 6   LotConfig      1459 non-null   object \n",
      " 7   LandSlope      1459 non-null   object \n",
      " 8   Neighborhood   1459 non-null   object \n",
      " 9   Condition1     1459 non-null   object \n",
      " 10  Condition2     1459 non-null   object \n",
      " 11  BldgType       1459 non-null   object \n",
      " 12  HouseStyle     1459 non-null   object \n",
      " 13  RoofStyle      1459 non-null   object \n",
      " 14  RoofMatl       1459 non-null   object \n",
      " 15  Exterior1st    1459 non-null   object \n",
      " 16  Exterior2nd    1459 non-null   object \n",
      " 17  MasVnrType     1459 non-null   object \n",
      " 18  ExterQual      1459 non-null   object \n",
      " 19  ExterCond      1459 non-null   object \n",
      " 20  Foundation     1459 non-null   object \n",
      " 21  BsmtQual       1459 non-null   object \n",
      " 22  BsmtCond       1459 non-null   object \n",
      " 23  BsmtExposure   1459 non-null   object \n",
      " 24  BsmtFinType1   1459 non-null   object \n",
      " 25  BsmtFinType2   1459 non-null   object \n",
      " 26  Heating        1459 non-null   object \n",
      " 27  HeatingQC      1459 non-null   object \n",
      " 28  CentralAir     1459 non-null   object \n",
      " 29  Electrical     1459 non-null   object \n",
      " 30  KitchenQual    1459 non-null   object \n",
      " 31  Functional     1459 non-null   object \n",
      " 32  GarageType     1459 non-null   object \n",
      " 33  GarageFinish   1459 non-null   object \n",
      " 34  GarageQual     1459 non-null   object \n",
      " 35  GarageCond     1459 non-null   object \n",
      " 36  PavedDrive     1459 non-null   object \n",
      " 37  SaleType       1459 non-null   object \n",
      " 38  SaleCondition  1459 non-null   object \n",
      " 39  MSSubClass     1459 non-null   float64\n",
      " 40  LotFrontage    1459 non-null   float64\n",
      " 41  LotArea        1459 non-null   float64\n",
      " 42  OverallQual    1459 non-null   float64\n",
      " 43  OverallCond    1459 non-null   float64\n",
      " 44  YearBuilt      1459 non-null   float64\n",
      " 45  YearRemodAdd   1459 non-null   float64\n",
      " 46  MasVnrArea     1459 non-null   float64\n",
      " 47  BsmtFinSF1     1459 non-null   float64\n",
      " 48  BsmtFinSF2     1459 non-null   float64\n",
      " 49  BsmtUnfSF      1459 non-null   float64\n",
      " 50  TotalBsmtSF    1459 non-null   float64\n",
      " 51  1stFlrSF       1459 non-null   float64\n",
      " 52  2ndFlrSF       1459 non-null   float64\n",
      " 53  LowQualFinSF   1459 non-null   float64\n",
      " 54  GrLivArea      1459 non-null   float64\n",
      " 55  BedroomAbvGr   1459 non-null   float64\n",
      " 56  TotRmsAbvGrd   1459 non-null   float64\n",
      " 57  GarageYrBlt    1459 non-null   float64\n",
      " 58  GarageCars     1459 non-null   float64\n",
      " 59  GarageArea     1459 non-null   float64\n",
      " 60  WoodDeckSF     1459 non-null   float64\n",
      " 61  OpenPorchSF    1459 non-null   float64\n",
      " 62  EnclosedPorch  1459 non-null   float64\n",
      " 63  3SsnPorch      1459 non-null   float64\n",
      " 64  ScreenPorch    1459 non-null   float64\n",
      " 65  PoolArea       1459 non-null   float64\n",
      " 66  MiscVal        1459 non-null   float64\n",
      " 67  MoSold         1459 non-null   float64\n",
      " 68  YrSold         1459 non-null   float64\n",
      "dtypes: float64(30), int64(1), object(38)\n",
      "memory usage: 786.6+ KB\n"
     ]
    }
   ],
   "source": [
    "house_test_data.info()"
   ]
  },
  {
   "cell_type": "code",
   "execution_count": 68,
   "metadata": {
    "scrolled": true
   },
   "outputs": [
    {
     "name": "stdout",
     "output_type": "stream",
     "text": [
      "<class 'pandas.core.frame.DataFrame'>\n",
      "RangeIndex: 1460 entries, 0 to 1459\n",
      "Data columns (total 69 columns):\n",
      " #   Column         Non-Null Count  Dtype  \n",
      "---  ------         --------------  -----  \n",
      " 0   MSZoning       1460 non-null   object \n",
      " 1   Street         1460 non-null   object \n",
      " 2   LotShape       1460 non-null   object \n",
      " 3   LandContour    1460 non-null   object \n",
      " 4   Utilities      1460 non-null   object \n",
      " 5   LotConfig      1460 non-null   object \n",
      " 6   LandSlope      1460 non-null   object \n",
      " 7   Neighborhood   1460 non-null   object \n",
      " 8   Condition1     1460 non-null   object \n",
      " 9   Condition2     1460 non-null   object \n",
      " 10  BldgType       1460 non-null   object \n",
      " 11  HouseStyle     1460 non-null   object \n",
      " 12  RoofStyle      1460 non-null   object \n",
      " 13  RoofMatl       1460 non-null   object \n",
      " 14  Exterior1st    1460 non-null   object \n",
      " 15  Exterior2nd    1460 non-null   object \n",
      " 16  MasVnrType     1460 non-null   object \n",
      " 17  ExterQual      1460 non-null   object \n",
      " 18  ExterCond      1460 non-null   object \n",
      " 19  Foundation     1460 non-null   object \n",
      " 20  BsmtQual       1460 non-null   object \n",
      " 21  BsmtCond       1460 non-null   object \n",
      " 22  BsmtExposure   1460 non-null   object \n",
      " 23  BsmtFinType1   1460 non-null   object \n",
      " 24  BsmtFinType2   1460 non-null   object \n",
      " 25  Heating        1460 non-null   object \n",
      " 26  HeatingQC      1460 non-null   object \n",
      " 27  CentralAir     1460 non-null   object \n",
      " 28  Electrical     1460 non-null   object \n",
      " 29  KitchenQual    1460 non-null   object \n",
      " 30  Functional     1460 non-null   object \n",
      " 31  GarageType     1460 non-null   object \n",
      " 32  GarageFinish   1460 non-null   object \n",
      " 33  GarageQual     1460 non-null   object \n",
      " 34  GarageCond     1460 non-null   object \n",
      " 35  PavedDrive     1460 non-null   object \n",
      " 36  SaleType       1460 non-null   object \n",
      " 37  SaleCondition  1460 non-null   object \n",
      " 38  SalePrice      1460 non-null   int64  \n",
      " 39  MSSubClass     1460 non-null   float64\n",
      " 40  LotFrontage    1460 non-null   float64\n",
      " 41  LotArea        1460 non-null   float64\n",
      " 42  OverallQual    1460 non-null   float64\n",
      " 43  OverallCond    1460 non-null   float64\n",
      " 44  YearBuilt      1460 non-null   float64\n",
      " 45  YearRemodAdd   1460 non-null   float64\n",
      " 46  MasVnrArea     1460 non-null   float64\n",
      " 47  BsmtFinSF1     1460 non-null   float64\n",
      " 48  BsmtFinSF2     1460 non-null   float64\n",
      " 49  BsmtUnfSF      1460 non-null   float64\n",
      " 50  TotalBsmtSF    1460 non-null   float64\n",
      " 51  1stFlrSF       1460 non-null   float64\n",
      " 52  2ndFlrSF       1460 non-null   float64\n",
      " 53  LowQualFinSF   1460 non-null   float64\n",
      " 54  GrLivArea      1460 non-null   float64\n",
      " 55  BedroomAbvGr   1460 non-null   float64\n",
      " 56  TotRmsAbvGrd   1460 non-null   float64\n",
      " 57  GarageYrBlt    1460 non-null   float64\n",
      " 58  GarageCars     1460 non-null   float64\n",
      " 59  GarageArea     1460 non-null   float64\n",
      " 60  WoodDeckSF     1460 non-null   float64\n",
      " 61  OpenPorchSF    1460 non-null   float64\n",
      " 62  EnclosedPorch  1460 non-null   float64\n",
      " 63  3SsnPorch      1460 non-null   float64\n",
      " 64  ScreenPorch    1460 non-null   float64\n",
      " 65  PoolArea       1460 non-null   float64\n",
      " 66  MiscVal        1460 non-null   float64\n",
      " 67  MoSold         1460 non-null   float64\n",
      " 68  YrSold         1460 non-null   float64\n",
      "dtypes: float64(30), int64(1), object(38)\n",
      "memory usage: 787.2+ KB\n"
     ]
    }
   ],
   "source": [
    "house_train_data.info()"
   ]
  },
  {
   "cell_type": "code",
   "execution_count": 69,
   "metadata": {},
   "outputs": [
    {
     "data": {
      "text/plain": [
       "MiscVal       MiscVal         1.000000\n",
       "MSSubClass    MSSubClass      1.000000\n",
       "GarageArea    GarageCars      0.882475\n",
       "GarageCars    GarageArea      0.882475\n",
       "GrLivArea     TotRmsAbvGrd    0.825489\n",
       "TotRmsAbvGrd  GrLivArea       0.825489\n",
       "TotalBsmtSF   1stFlrSF        0.819530\n",
       "1stFlrSF      TotalBsmtSF     0.819530\n",
       "YearBuilt     GarageYrBlt     0.777182\n",
       "GarageYrBlt   YearBuilt       0.777182\n",
       "GrLivArea     2ndFlrSF        0.687501\n",
       "2ndFlrSF      GrLivArea       0.687501\n",
       "TotRmsAbvGrd  BedroomAbvGr    0.676620\n",
       "BedroomAbvGr  TotRmsAbvGrd    0.676620\n",
       "YearRemodAdd  GarageYrBlt     0.616444\n",
       "GarageYrBlt   YearRemodAdd    0.616444\n",
       "TotRmsAbvGrd  2ndFlrSF        0.616423\n",
       "2ndFlrSF      TotRmsAbvGrd    0.616423\n",
       "OverallQual   GarageCars      0.600671\n",
       "GarageCars    OverallQual     0.600671\n",
       "OverallQual   GrLivArea       0.593007\n",
       "GrLivArea     OverallQual     0.593007\n",
       "YearRemodAdd  YearBuilt       0.592855\n",
       "YearBuilt     YearRemodAdd    0.592855\n",
       "OverallQual   YearBuilt       0.572323\n",
       "YearBuilt     OverallQual     0.572323\n",
       "GrLivArea     1stFlrSF        0.566024\n",
       "1stFlrSF      GrLivArea       0.566024\n",
       "GarageArea    OverallQual     0.562022\n",
       "OverallQual   GarageArea      0.562022\n",
       "              YearRemodAdd    0.550684\n",
       "YearRemodAdd  OverallQual     0.550684\n",
       "GarageCars    YearBuilt       0.537850\n",
       "YearBuilt     GarageCars      0.537850\n",
       "TotalBsmtSF   OverallQual     0.537808\n",
       "OverallQual   TotalBsmtSF     0.537808\n",
       "TotalBsmtSF   BsmtFinSF1      0.522396\n",
       "BsmtFinSF1    TotalBsmtSF     0.522396\n",
       "BedroomAbvGr  GrLivArea       0.521270\n",
       "GrLivArea     BedroomAbvGr    0.521270\n",
       "OverallQual   GarageYrBlt     0.514231\n",
       "GarageYrBlt   OverallQual     0.514231\n",
       "2ndFlrSF      BedroomAbvGr    0.502901\n",
       "dtype: float64"
      ]
     },
     "execution_count": 69,
     "metadata": {},
     "output_type": "execute_result"
    }
   ],
   "source": [
    "# check the highest correlated pairs\n",
    "df=house_train_data.drop('SalePrice', 1).copy()\n",
    "tempdf = df.corr().abs()\n",
    "\n",
    "s = tempdf.unstack()\n",
    "so = s.sort_values(ascending=False)\n",
    "so[28:71]"
   ]
  },
  {
   "cell_type": "code",
   "execution_count": 70,
   "metadata": {},
   "outputs": [],
   "source": [
    "# GrLivArea     TotRmsAbvGrd\n",
    "# TotalBsmtSF   1stFlrSF\n",
    "# YearBuilt     GarageYrBlt\n",
    "# OverallQual   GarageArea\n",
    "# BedroomAbvGr  2ndFlrSF"
   ]
  },
  {
   "cell_type": "code",
   "execution_count": 71,
   "metadata": {},
   "outputs": [],
   "source": [
    "Columns_delete = ['GrLivArea','TotRmsAbvGrd','TotalBsmtSF','1stFlrSF','YearBuilt', 'GarageYrBlt','OverallQual',\n",
    "                 'GarageArea','BedroomAbvGr','2ndFlrSF']"
   ]
  },
  {
   "cell_type": "code",
   "execution_count": 72,
   "metadata": {
    "scrolled": true
   },
   "outputs": [],
   "source": [
    "house_train_data['TotGrRmsArea'] = house_train_data['GrLivArea'] + house_train_data['TotRmsAbvGrd']\n",
    "house_train_data['TotBsmt1stSF'] = house_train_data['TotalBsmtSF'] + house_train_data['1stFlrSF']\n",
    "house_train_data['YrBuiltGarage'] = house_train_data['YearBuilt'] + house_train_data['GarageYrBlt']\n",
    "house_train_data['Garage_Overall'] = house_train_data['OverallQual'] + house_train_data['GarageArea']\n",
    "house_train_data['BedAbvGr'] = house_train_data['BedroomAbvGr'] + house_train_data['2ndFlrSF']"
   ]
  },
  {
   "cell_type": "code",
   "execution_count": 73,
   "metadata": {
    "scrolled": true
   },
   "outputs": [],
   "source": [
    "house_test_data['TotGrRmsArea'] = house_test_data['GrLivArea'] + house_test_data['TotRmsAbvGrd']\n",
    "house_test_data['TotBsmt1stSF'] = house_test_data['TotalBsmtSF'] + house_test_data['1stFlrSF']\n",
    "house_test_data['YrBuiltGarage'] = house_test_data['YearBuilt'] + house_test_data['GarageYrBlt']\n",
    "house_test_data['Garage_Overall'] = house_test_data['OverallQual'] + house_test_data['GarageArea']\n",
    "house_test_data['BedAbvGr'] = house_test_data['BedroomAbvGr'] + house_test_data['2ndFlrSF']"
   ]
  },
  {
   "cell_type": "code",
   "execution_count": 74,
   "metadata": {},
   "outputs": [],
   "source": [
    "temp_train_df = house_train_data.drop(Columns_delete, axis = 1).copy()"
   ]
  },
  {
   "cell_type": "code",
   "execution_count": 75,
   "metadata": {},
   "outputs": [
    {
     "data": {
      "text/plain": [
       "Index(['MSZoning', 'Street', 'LotShape', 'LandContour', 'Utilities',\n",
       "       'LotConfig', 'LandSlope', 'Neighborhood', 'Condition1', 'Condition2',\n",
       "       'BldgType', 'HouseStyle', 'RoofStyle', 'RoofMatl', 'Exterior1st',\n",
       "       'Exterior2nd', 'MasVnrType', 'ExterQual', 'ExterCond', 'Foundation',\n",
       "       'BsmtQual', 'BsmtCond', 'BsmtExposure', 'BsmtFinType1', 'BsmtFinType2',\n",
       "       'Heating', 'HeatingQC', 'CentralAir', 'Electrical', 'KitchenQual',\n",
       "       'Functional', 'GarageType', 'GarageFinish', 'GarageQual', 'GarageCond',\n",
       "       'PavedDrive', 'SaleType', 'SaleCondition', 'SalePrice', 'MSSubClass',\n",
       "       'LotFrontage', 'LotArea', 'OverallCond', 'YearRemodAdd', 'MasVnrArea',\n",
       "       'BsmtFinSF1', 'BsmtFinSF2', 'BsmtUnfSF', 'LowQualFinSF', 'GarageCars',\n",
       "       'WoodDeckSF', 'OpenPorchSF', 'EnclosedPorch', '3SsnPorch',\n",
       "       'ScreenPorch', 'PoolArea', 'MiscVal', 'MoSold', 'YrSold',\n",
       "       'TotGrRmsArea', 'TotBsmt1stSF', 'YrBuiltGarage', 'Garage_Overall',\n",
       "       'BedAbvGr'],\n",
       "      dtype='object')"
      ]
     },
     "execution_count": 75,
     "metadata": {},
     "output_type": "execute_result"
    }
   ],
   "source": [
    "temp_train_df.columns"
   ]
  },
  {
   "cell_type": "code",
   "execution_count": 76,
   "metadata": {},
   "outputs": [],
   "source": [
    "temp_test_df = house_test_data.drop(Columns_delete, axis = 1).copy()"
   ]
  },
  {
   "cell_type": "code",
   "execution_count": 77,
   "metadata": {
    "scrolled": false
   },
   "outputs": [
    {
     "data": {
      "text/plain": [
       "Index(['Id', 'MSZoning', 'Street', 'LotShape', 'LandContour', 'Utilities',\n",
       "       'LotConfig', 'LandSlope', 'Neighborhood', 'Condition1', 'Condition2',\n",
       "       'BldgType', 'HouseStyle', 'RoofStyle', 'RoofMatl', 'Exterior1st',\n",
       "       'Exterior2nd', 'MasVnrType', 'ExterQual', 'ExterCond', 'Foundation',\n",
       "       'BsmtQual', 'BsmtCond', 'BsmtExposure', 'BsmtFinType1', 'BsmtFinType2',\n",
       "       'Heating', 'HeatingQC', 'CentralAir', 'Electrical', 'KitchenQual',\n",
       "       'Functional', 'GarageType', 'GarageFinish', 'GarageQual', 'GarageCond',\n",
       "       'PavedDrive', 'SaleType', 'SaleCondition', 'MSSubClass', 'LotFrontage',\n",
       "       'LotArea', 'OverallCond', 'YearRemodAdd', 'MasVnrArea', 'BsmtFinSF1',\n",
       "       'BsmtFinSF2', 'BsmtUnfSF', 'LowQualFinSF', 'GarageCars', 'WoodDeckSF',\n",
       "       'OpenPorchSF', 'EnclosedPorch', '3SsnPorch', 'ScreenPorch', 'PoolArea',\n",
       "       'MiscVal', 'MoSold', 'YrSold', 'TotGrRmsArea', 'TotBsmt1stSF',\n",
       "       'YrBuiltGarage', 'Garage_Overall', 'BedAbvGr'],\n",
       "      dtype='object')"
      ]
     },
     "execution_count": 77,
     "metadata": {},
     "output_type": "execute_result"
    }
   ],
   "source": [
    "temp_test_df.columns"
   ]
  },
  {
   "cell_type": "code",
   "execution_count": 78,
   "metadata": {},
   "outputs": [],
   "source": [
    "temp_train_df_dummies = pd.get_dummies(temp_train_df)"
   ]
  },
  {
   "cell_type": "markdown",
   "metadata": {},
   "source": [
    "## Feature importance"
   ]
  },
  {
   "cell_type": "code",
   "execution_count": 79,
   "metadata": {},
   "outputs": [
    {
     "data": {
      "text/html": [
       "<div>\n",
       "<style scoped>\n",
       "    .dataframe tbody tr th:only-of-type {\n",
       "        vertical-align: middle;\n",
       "    }\n",
       "\n",
       "    .dataframe tbody tr th {\n",
       "        vertical-align: top;\n",
       "    }\n",
       "\n",
       "    .dataframe thead th {\n",
       "        text-align: right;\n",
       "    }\n",
       "</style>\n",
       "<table border=\"1\" class=\"dataframe\">\n",
       "  <thead>\n",
       "    <tr style=\"text-align: right;\">\n",
       "      <th></th>\n",
       "      <th>MSSubClass</th>\n",
       "      <th>LotFrontage</th>\n",
       "      <th>LotArea</th>\n",
       "      <th>OverallCond</th>\n",
       "      <th>YearRemodAdd</th>\n",
       "      <th>MasVnrArea</th>\n",
       "      <th>BsmtFinSF1</th>\n",
       "      <th>BsmtFinSF2</th>\n",
       "      <th>BsmtUnfSF</th>\n",
       "      <th>LowQualFinSF</th>\n",
       "      <th>...</th>\n",
       "      <th>SaleType_ConLw</th>\n",
       "      <th>SaleType_New</th>\n",
       "      <th>SaleType_Oth</th>\n",
       "      <th>SaleType_WD</th>\n",
       "      <th>SaleCondition_Abnorml</th>\n",
       "      <th>SaleCondition_AdjLand</th>\n",
       "      <th>SaleCondition_Alloca</th>\n",
       "      <th>SaleCondition_Family</th>\n",
       "      <th>SaleCondition_Normal</th>\n",
       "      <th>SaleCondition_Partial</th>\n",
       "    </tr>\n",
       "  </thead>\n",
       "  <tbody>\n",
       "    <tr>\n",
       "      <th>0</th>\n",
       "      <td>0.073375</td>\n",
       "      <td>-0.220875</td>\n",
       "      <td>-0.207142</td>\n",
       "      <td>-0.517200</td>\n",
       "      <td>0.878668</td>\n",
       "      <td>0.514104</td>\n",
       "      <td>0.575425</td>\n",
       "      <td>-0.288653</td>\n",
       "      <td>-0.944591</td>\n",
       "      <td>-0.120242</td>\n",
       "      <td>...</td>\n",
       "      <td>0</td>\n",
       "      <td>0</td>\n",
       "      <td>0</td>\n",
       "      <td>1</td>\n",
       "      <td>0</td>\n",
       "      <td>0</td>\n",
       "      <td>0</td>\n",
       "      <td>0</td>\n",
       "      <td>1</td>\n",
       "      <td>0</td>\n",
       "    </tr>\n",
       "    <tr>\n",
       "      <th>1</th>\n",
       "      <td>-0.872563</td>\n",
       "      <td>0.460320</td>\n",
       "      <td>-0.091886</td>\n",
       "      <td>2.179628</td>\n",
       "      <td>-0.429577</td>\n",
       "      <td>-0.570750</td>\n",
       "      <td>1.171992</td>\n",
       "      <td>-0.288653</td>\n",
       "      <td>-0.641228</td>\n",
       "      <td>-0.120242</td>\n",
       "      <td>...</td>\n",
       "      <td>0</td>\n",
       "      <td>0</td>\n",
       "      <td>0</td>\n",
       "      <td>1</td>\n",
       "      <td>0</td>\n",
       "      <td>0</td>\n",
       "      <td>0</td>\n",
       "      <td>0</td>\n",
       "      <td>1</td>\n",
       "      <td>0</td>\n",
       "    </tr>\n",
       "    <tr>\n",
       "      <th>2</th>\n",
       "      <td>0.073375</td>\n",
       "      <td>-0.084636</td>\n",
       "      <td>0.073480</td>\n",
       "      <td>-0.517200</td>\n",
       "      <td>0.830215</td>\n",
       "      <td>0.325915</td>\n",
       "      <td>0.092907</td>\n",
       "      <td>-0.288653</td>\n",
       "      <td>-0.301643</td>\n",
       "      <td>-0.120242</td>\n",
       "      <td>...</td>\n",
       "      <td>0</td>\n",
       "      <td>0</td>\n",
       "      <td>0</td>\n",
       "      <td>1</td>\n",
       "      <td>0</td>\n",
       "      <td>0</td>\n",
       "      <td>0</td>\n",
       "      <td>0</td>\n",
       "      <td>1</td>\n",
       "      <td>0</td>\n",
       "    </tr>\n",
       "    <tr>\n",
       "      <th>3</th>\n",
       "      <td>0.309859</td>\n",
       "      <td>-0.447940</td>\n",
       "      <td>-0.096897</td>\n",
       "      <td>-0.517200</td>\n",
       "      <td>-0.720298</td>\n",
       "      <td>-0.570750</td>\n",
       "      <td>-0.499274</td>\n",
       "      <td>-0.288653</td>\n",
       "      <td>-0.061670</td>\n",
       "      <td>-0.120242</td>\n",
       "      <td>...</td>\n",
       "      <td>0</td>\n",
       "      <td>0</td>\n",
       "      <td>0</td>\n",
       "      <td>1</td>\n",
       "      <td>1</td>\n",
       "      <td>0</td>\n",
       "      <td>0</td>\n",
       "      <td>0</td>\n",
       "      <td>0</td>\n",
       "      <td>0</td>\n",
       "    </tr>\n",
       "    <tr>\n",
       "      <th>4</th>\n",
       "      <td>0.073375</td>\n",
       "      <td>0.641972</td>\n",
       "      <td>0.375148</td>\n",
       "      <td>-0.517200</td>\n",
       "      <td>0.733308</td>\n",
       "      <td>1.366489</td>\n",
       "      <td>0.463568</td>\n",
       "      <td>-0.288653</td>\n",
       "      <td>-0.174865</td>\n",
       "      <td>-0.120242</td>\n",
       "      <td>...</td>\n",
       "      <td>0</td>\n",
       "      <td>0</td>\n",
       "      <td>0</td>\n",
       "      <td>1</td>\n",
       "      <td>0</td>\n",
       "      <td>0</td>\n",
       "      <td>0</td>\n",
       "      <td>0</td>\n",
       "      <td>1</td>\n",
       "      <td>0</td>\n",
       "    </tr>\n",
       "    <tr>\n",
       "      <th>...</th>\n",
       "      <td>...</td>\n",
       "      <td>...</td>\n",
       "      <td>...</td>\n",
       "      <td>...</td>\n",
       "      <td>...</td>\n",
       "      <td>...</td>\n",
       "      <td>...</td>\n",
       "      <td>...</td>\n",
       "      <td>...</td>\n",
       "      <td>...</td>\n",
       "      <td>...</td>\n",
       "      <td>...</td>\n",
       "      <td>...</td>\n",
       "      <td>...</td>\n",
       "      <td>...</td>\n",
       "      <td>...</td>\n",
       "      <td>...</td>\n",
       "      <td>...</td>\n",
       "      <td>...</td>\n",
       "      <td>...</td>\n",
       "      <td>...</td>\n",
       "    </tr>\n",
       "    <tr>\n",
       "      <th>1455</th>\n",
       "      <td>0.073375</td>\n",
       "      <td>-0.357114</td>\n",
       "      <td>-0.260560</td>\n",
       "      <td>-0.517200</td>\n",
       "      <td>0.733308</td>\n",
       "      <td>-0.570750</td>\n",
       "      <td>-0.973018</td>\n",
       "      <td>-0.288653</td>\n",
       "      <td>0.873321</td>\n",
       "      <td>-0.120242</td>\n",
       "      <td>...</td>\n",
       "      <td>0</td>\n",
       "      <td>0</td>\n",
       "      <td>0</td>\n",
       "      <td>1</td>\n",
       "      <td>0</td>\n",
       "      <td>0</td>\n",
       "      <td>0</td>\n",
       "      <td>0</td>\n",
       "      <td>1</td>\n",
       "      <td>0</td>\n",
       "    </tr>\n",
       "    <tr>\n",
       "      <th>1456</th>\n",
       "      <td>-0.872563</td>\n",
       "      <td>0.687385</td>\n",
       "      <td>0.266407</td>\n",
       "      <td>0.381743</td>\n",
       "      <td>0.151865</td>\n",
       "      <td>0.087911</td>\n",
       "      <td>0.759659</td>\n",
       "      <td>0.722112</td>\n",
       "      <td>0.049262</td>\n",
       "      <td>-0.120242</td>\n",
       "      <td>...</td>\n",
       "      <td>0</td>\n",
       "      <td>0</td>\n",
       "      <td>0</td>\n",
       "      <td>1</td>\n",
       "      <td>0</td>\n",
       "      <td>0</td>\n",
       "      <td>0</td>\n",
       "      <td>0</td>\n",
       "      <td>1</td>\n",
       "      <td>0</td>\n",
       "    </tr>\n",
       "    <tr>\n",
       "      <th>1457</th>\n",
       "      <td>0.309859</td>\n",
       "      <td>-0.175462</td>\n",
       "      <td>-0.147810</td>\n",
       "      <td>3.078570</td>\n",
       "      <td>1.024029</td>\n",
       "      <td>-0.570750</td>\n",
       "      <td>-0.369871</td>\n",
       "      <td>-0.288653</td>\n",
       "      <td>0.701265</td>\n",
       "      <td>-0.120242</td>\n",
       "      <td>...</td>\n",
       "      <td>0</td>\n",
       "      <td>0</td>\n",
       "      <td>0</td>\n",
       "      <td>1</td>\n",
       "      <td>0</td>\n",
       "      <td>0</td>\n",
       "      <td>0</td>\n",
       "      <td>0</td>\n",
       "      <td>1</td>\n",
       "      <td>0</td>\n",
       "    </tr>\n",
       "    <tr>\n",
       "      <th>1458</th>\n",
       "      <td>-0.872563</td>\n",
       "      <td>-0.084636</td>\n",
       "      <td>-0.080160</td>\n",
       "      <td>0.381743</td>\n",
       "      <td>0.539493</td>\n",
       "      <td>-0.570750</td>\n",
       "      <td>-0.865548</td>\n",
       "      <td>6.092188</td>\n",
       "      <td>-1.284176</td>\n",
       "      <td>-0.120242</td>\n",
       "      <td>...</td>\n",
       "      <td>0</td>\n",
       "      <td>0</td>\n",
       "      <td>0</td>\n",
       "      <td>1</td>\n",
       "      <td>0</td>\n",
       "      <td>0</td>\n",
       "      <td>0</td>\n",
       "      <td>0</td>\n",
       "      <td>1</td>\n",
       "      <td>0</td>\n",
       "    </tr>\n",
       "    <tr>\n",
       "      <th>1459</th>\n",
       "      <td>-0.872563</td>\n",
       "      <td>0.233255</td>\n",
       "      <td>-0.058112</td>\n",
       "      <td>0.381743</td>\n",
       "      <td>-0.962566</td>\n",
       "      <td>-0.570750</td>\n",
       "      <td>0.847389</td>\n",
       "      <td>1.509640</td>\n",
       "      <td>-0.976285</td>\n",
       "      <td>-0.120242</td>\n",
       "      <td>...</td>\n",
       "      <td>0</td>\n",
       "      <td>0</td>\n",
       "      <td>0</td>\n",
       "      <td>1</td>\n",
       "      <td>0</td>\n",
       "      <td>0</td>\n",
       "      <td>0</td>\n",
       "      <td>0</td>\n",
       "      <td>1</td>\n",
       "      <td>0</td>\n",
       "    </tr>\n",
       "  </tbody>\n",
       "</table>\n",
       "<p>1460 rows × 268 columns</p>\n",
       "</div>"
      ],
      "text/plain": [
       "      MSSubClass  LotFrontage   LotArea  OverallCond  YearRemodAdd  \\\n",
       "0       0.073375    -0.220875 -0.207142    -0.517200      0.878668   \n",
       "1      -0.872563     0.460320 -0.091886     2.179628     -0.429577   \n",
       "2       0.073375    -0.084636  0.073480    -0.517200      0.830215   \n",
       "3       0.309859    -0.447940 -0.096897    -0.517200     -0.720298   \n",
       "4       0.073375     0.641972  0.375148    -0.517200      0.733308   \n",
       "...          ...          ...       ...          ...           ...   \n",
       "1455    0.073375    -0.357114 -0.260560    -0.517200      0.733308   \n",
       "1456   -0.872563     0.687385  0.266407     0.381743      0.151865   \n",
       "1457    0.309859    -0.175462 -0.147810     3.078570      1.024029   \n",
       "1458   -0.872563    -0.084636 -0.080160     0.381743      0.539493   \n",
       "1459   -0.872563     0.233255 -0.058112     0.381743     -0.962566   \n",
       "\n",
       "      MasVnrArea  BsmtFinSF1  BsmtFinSF2  BsmtUnfSF  LowQualFinSF  ...  \\\n",
       "0       0.514104    0.575425   -0.288653  -0.944591     -0.120242  ...   \n",
       "1      -0.570750    1.171992   -0.288653  -0.641228     -0.120242  ...   \n",
       "2       0.325915    0.092907   -0.288653  -0.301643     -0.120242  ...   \n",
       "3      -0.570750   -0.499274   -0.288653  -0.061670     -0.120242  ...   \n",
       "4       1.366489    0.463568   -0.288653  -0.174865     -0.120242  ...   \n",
       "...          ...         ...         ...        ...           ...  ...   \n",
       "1455   -0.570750   -0.973018   -0.288653   0.873321     -0.120242  ...   \n",
       "1456    0.087911    0.759659    0.722112   0.049262     -0.120242  ...   \n",
       "1457   -0.570750   -0.369871   -0.288653   0.701265     -0.120242  ...   \n",
       "1458   -0.570750   -0.865548    6.092188  -1.284176     -0.120242  ...   \n",
       "1459   -0.570750    0.847389    1.509640  -0.976285     -0.120242  ...   \n",
       "\n",
       "      SaleType_ConLw  SaleType_New  SaleType_Oth  SaleType_WD  \\\n",
       "0                  0             0             0            1   \n",
       "1                  0             0             0            1   \n",
       "2                  0             0             0            1   \n",
       "3                  0             0             0            1   \n",
       "4                  0             0             0            1   \n",
       "...              ...           ...           ...          ...   \n",
       "1455               0             0             0            1   \n",
       "1456               0             0             0            1   \n",
       "1457               0             0             0            1   \n",
       "1458               0             0             0            1   \n",
       "1459               0             0             0            1   \n",
       "\n",
       "      SaleCondition_Abnorml  SaleCondition_AdjLand  SaleCondition_Alloca  \\\n",
       "0                         0                      0                     0   \n",
       "1                         0                      0                     0   \n",
       "2                         0                      0                     0   \n",
       "3                         1                      0                     0   \n",
       "4                         0                      0                     0   \n",
       "...                     ...                    ...                   ...   \n",
       "1455                      0                      0                     0   \n",
       "1456                      0                      0                     0   \n",
       "1457                      0                      0                     0   \n",
       "1458                      0                      0                     0   \n",
       "1459                      0                      0                     0   \n",
       "\n",
       "      SaleCondition_Family  SaleCondition_Normal  SaleCondition_Partial  \n",
       "0                        0                     1                      0  \n",
       "1                        0                     1                      0  \n",
       "2                        0                     1                      0  \n",
       "3                        0                     0                      0  \n",
       "4                        0                     1                      0  \n",
       "...                    ...                   ...                    ...  \n",
       "1455                     0                     1                      0  \n",
       "1456                     0                     1                      0  \n",
       "1457                     0                     1                      0  \n",
       "1458                     0                     1                      0  \n",
       "1459                     0                     1                      0  \n",
       "\n",
       "[1460 rows x 268 columns]"
      ]
     },
     "execution_count": 79,
     "metadata": {},
     "output_type": "execute_result"
    }
   ],
   "source": [
    "from sklearn.ensemble import RandomForestRegressor\n",
    "df=temp_train_df_dummies.drop(['SalePrice'], axis=1).copy()\n",
    "df\n"
   ]
  },
  {
   "cell_type": "code",
   "execution_count": 80,
   "metadata": {},
   "outputs": [
    {
     "data": {
      "text/plain": [
       "RandomForestRegressor(max_depth=10, random_state=1)"
      ]
     },
     "execution_count": 80,
     "metadata": {},
     "output_type": "execute_result"
    }
   ],
   "source": [
    "model = RandomForestRegressor(random_state=1, max_depth=10)\n",
    "model.fit(df,temp_train_df_dummies.SalePrice)"
   ]
  },
  {
   "cell_type": "code",
   "execution_count": 81,
   "metadata": {},
   "outputs": [
    {
     "data": {
      "text/plain": [
       "{0.6763345382064203: 'Garage_Overall',\n",
       " 0.06524262403725163: 'TotGrRmsArea',\n",
       " 0.043895558684099695: 'TotBsmt1stSF',\n",
       " 0.036665430907720925: 'BedAbvGr',\n",
       " 0.025430504496509604: 'BsmtFinSF1',\n",
       " 0.014097068018004809: 'LotArea',\n",
       " 0.008957410359975508: 'BsmtQual_Ex',\n",
       " 0.006850122434882002: 'GarageType_Detchd',\n",
       " 0.006754776904153373: 'YearRemodAdd',\n",
       " 0.006638039370863217: 'YrBuiltGarage',\n",
       " 0.006447574440270935: 'OpenPorchSF',\n",
       " 0.006019183709037385: 'BsmtUnfSF',\n",
       " 0.005724750143748983: 'WoodDeckSF',\n",
       " 0.005683024032775237: 'MasVnrArea',\n",
       " 0.005215149592578093: 'LotFrontage',\n",
       " 0.0046826450981291255: 'MoSold',\n",
       " 0.004460052539605287: 'OverallCond',\n",
       " 0.003511705600619221: 'KitchenQual_Ex',\n",
       " 0.0024843675768811985: 'Neighborhood_Crawfor',\n",
       " 0.0022953373902536442: 'KitchenQual_TA',\n",
       " 0.002072215735602459: 'MSZoning_RL',\n",
       " 0.002055642994920967: 'MSSubClass',\n",
       " 0.002000481469811394: 'ScreenPorch',\n",
       " 0.0017704189885510671: 'ExterQual_TA',\n",
       " 0.0016854880534486756: 'YrSold',\n",
       " 0.001467300542900654: 'BsmtQual_TA',\n",
       " 0.0014601241263999002: 'GarageFinish_Fin',\n",
       " 0.0014340777514925136: 'Exterior1st_BrkFace',\n",
       " 0.0014070307165808488: 'LandSlope_Gtl',\n",
       " 0.0012222351481595997: 'MSZoning_RM',\n",
       " 0.0012043209496494136: 'BsmtExposure_Gd',\n",
       " 0.0011338962948827882: 'BsmtExposure_No',\n",
       " 0.001124958467997371: 'Neighborhood_NoRidge',\n",
       " 0.0010866042750444468: 'KitchenQual_Gd',\n",
       " 0.001076672289605958: 'ExterQual_Gd',\n",
       " 0.0010639213380941618: 'SaleType_WD',\n",
       " 0.001058336741310352: 'LandContour_Lvl',\n",
       " 0.001057954808874964: 'GarageCars',\n",
       " 0.0009951995225568086: 'BsmtQual_Gd',\n",
       " 0.0009935066799632484: 'GarageType_Attchd',\n",
       " 0.0009346526720596196: 'GarageFinish_RFn',\n",
       " 0.0009131918621892985: 'HouseStyle_2Story',\n",
       " 0.0007614371213757235: 'CentralAir_Y',\n",
       " 0.0007466976819002611: 'SaleCondition_Abnorml',\n",
       " 0.0007357551361887101: 'GarageFinish_Unf',\n",
       " 0.0007100843362493586: 'Neighborhood_StoneBr',\n",
       " 0.0007002924310670607: 'ExterQual_Ex',\n",
       " 0.0006380797387958344: 'Exterior1st_HdBoard',\n",
       " 0.0006238981042150323: 'LandContour_Bnk',\n",
       " 0.0006094155840696667: 'BldgType_1Fam',\n",
       " 0.0006048974622359144: 'MasVnrType_Stone',\n",
       " 0.0005861130460711479: 'Neighborhood_Edwards',\n",
       " 0.0005808883257563451: 'RoofStyle_Gambrel',\n",
       " 0.0005784368417700637: 'EnclosedPorch',\n",
       " 0.000551227126895175: 'SaleCondition_Normal',\n",
       " 0.0005470164882888693: 'LotShape_Reg',\n",
       " 0.0005126178006515448: 'RoofStyle_Hip',\n",
       " 0.0005042881801866125: 'Condition1_Norm',\n",
       " 0.0004868911717150641: 'Exterior2nd_VinylSd',\n",
       " 0.0004855826797699972: 'CentralAir_N',\n",
       " 0.0004742918558652638: 'RoofStyle_Gable',\n",
       " 0.00047264089271670246: 'SaleCondition_Partial',\n",
       " 0.0004287880884465089: 'Exterior1st_VinylSd',\n",
       " 0.00042600958071474374: 'BsmtFinType1_GLQ',\n",
       " 0.0004038143056607475: 'LandSlope_Mod',\n",
       " 0.00040228570229955385: 'Neighborhood_NridgHt',\n",
       " 0.000398261763291732: 'GarageQual_TA',\n",
       " 0.0003949274675600998: 'BsmtFinSF2',\n",
       " 0.00039180939873557035: 'MSZoning_C (all)',\n",
       " 0.0003886756617975793: 'LotShape_IR1',\n",
       " 0.0003767640307976696: 'LandContour_HLS',\n",
       " 0.00037056995156398197: 'Exterior2nd_HdBoard',\n",
       " 0.00036823237816543323: 'BsmtExposure_Av',\n",
       " 0.0003621345898726142: 'LotConfig_Inside',\n",
       " 0.0003467154210136683: 'Functional_Typ',\n",
       " 0.0003461266116639711: 'MasVnrType_None',\n",
       " 0.0003402179407139742: 'Foundation_PConc',\n",
       " 0.0003381989869675326: 'LotConfig_Corner',\n",
       " 0.0003363408318289749: 'SaleType_New',\n",
       " 0.00033259287476794394: 'Neighborhood_OldTown',\n",
       " 0.00032821403264264327: 'LotConfig_CulDSac',\n",
       " 0.0003226376743264301: 'Neighborhood_ClearCr',\n",
       " 0.0003202718818286629: 'SaleCondition_Family',\n",
       " 0.0003128365015397359: 'Foundation_BrkTil',\n",
       " 0.00030906958233671355: 'HeatingQC_Ex',\n",
       " 0.0003005296288853354: 'MasVnrType_BrkFace',\n",
       " 0.0002931888548982532: 'Functional_Mod',\n",
       " 0.0002789129280375293: 'LotShape_IR2',\n",
       " 0.00026566903411663764: 'HouseStyle_1.5Fin',\n",
       " 0.0002644375686557054: 'ExterCond_TA',\n",
       " 0.0002635837766080251: 'Condition1_Feedr',\n",
       " 0.00026173882173601443: 'Functional_Min2',\n",
       " 0.0002595927625863165: 'Foundation_CBlock',\n",
       " 0.00025694556729065235: 'Neighborhood_CollgCr',\n",
       " 0.0002475894257136405: 'HeatingQC_TA',\n",
       " 0.0002418004982501175: 'BsmtFinType1_Unf',\n",
       " 0.00023455384447111427: 'Exterior2nd_CmentBd',\n",
       " 0.00023048528280969843: 'Neighborhood_Somerst',\n",
       " 0.000227051141945545: 'Neighborhood_NAmes',\n",
       " 0.0002243559262482625: 'BldgType_Duplex',\n",
       " 0.00022399155303240212: 'GarageCond_TA',\n",
       " 0.0002191855489226439: 'HouseStyle_1Story',\n",
       " 0.00021436581569115034: 'BsmtFinType1_ALQ',\n",
       " 0.0002121623460087151: 'LotShape_IR3',\n",
       " 0.00020672266647077495: 'PoolArea',\n",
       " 0.00020310763523677757: 'Exterior2nd_MetalSd',\n",
       " 0.0001998897923836864: 'PavedDrive_Y',\n",
       " 0.00019654895739462428: 'GarageType_BuiltIn',\n",
       " 0.00019435472111127536: 'HeatingQC_Gd',\n",
       " 0.00019263689036737988: 'MiscVal',\n",
       " 0.00018864572387466795: 'Exterior1st_Stucco',\n",
       " 0.0001883178673463154: 'BsmtCond_Gd',\n",
       " 0.00018412518803826648: 'PavedDrive_N',\n",
       " 0.00017108716006377687: 'Exterior2nd_Stucco',\n",
       " 0.00016937013577690956: 'ExterCond_Gd',\n",
       " 0.00016900059886038716: 'BsmtFinType2_ALQ',\n",
       " 0.0001646753210734336: 'Exterior1st_Wd Sdng',\n",
       " 0.00016205659091674001: 'LandContour_Low',\n",
       " 0.0001592720853935614: 'HouseStyle_SLvl',\n",
       " 0.00015611206006509718: 'BsmtCond_TA',\n",
       " 0.0001491264055526757: 'BsmtExposure_Mn',\n",
       " 0.00014907350852469802: 'Exterior1st_MetalSd',\n",
       " 0.00014515167197596353: 'RoofMatl_CompShg',\n",
       " 0.00013980485496265175: 'Exterior2nd_Wd Sdng',\n",
       " 0.0001388503118779157: 'MSZoning_FV',\n",
       " 0.00013677139263923183: 'Exterior1st_CemntBd',\n",
       " 0.00013671231673327135: 'Neighborhood_Mitchel',\n",
       " 0.00013609438672794891: 'Exterior2nd_BrkFace',\n",
       " 0.0001350812057103745: 'BsmtFinType2_Unf',\n",
       " 0.0001314269205266349: 'Condition2_Norm',\n",
       " 0.0001307432167377333: 'Neighborhood_IDOTRR',\n",
       " 0.00012806726884911028: '3SsnPorch',\n",
       " 0.00012261860241804992: 'HeatingQC_Fa',\n",
       " 0.00012139826215618303: 'ExterCond_Fa',\n",
       " 0.00011176287628853146: 'Condition1_Artery',\n",
       " 0.00010900423794285716: 'Neighborhood_Timber',\n",
       " 0.00010806940373316535: 'RoofMatl_WdShngl',\n",
       " 0.00010496575957881961: 'BsmtFinType1_Rec',\n",
       " 0.00010315619255155043: 'LotConfig_FR2',\n",
       " 0.00010292084641587047: 'SaleCondition_Alloca',\n",
       " 9.472175525759082e-05: 'Neighborhood_Gilbert',\n",
       " 9.242616377576466e-05: 'Exterior2nd_Plywood',\n",
       " 8.868965455416867e-05: 'RoofStyle_Flat',\n",
       " 8.767389451195405e-05: 'Exterior2nd_Brk Cmn',\n",
       " 8.626033613444991e-05: 'BsmtCond_Fa',\n",
       " 8.574029533068049e-05: 'GarageType_Basment',\n",
       " 8.430704543367335e-05: 'BsmtQual_Fa',\n",
       " 7.222359419347477e-05: 'Condition1_PosN',\n",
       " 7.216565159124388e-05: 'Exterior1st_Plywood',\n",
       " 7.083307446255935e-05: 'BsmtFinType1_LwQ',\n",
       " 6.97755506713769e-05: 'LandSlope_Sev',\n",
       " 6.725385136820571e-05: 'Neighborhood_Sawyer',\n",
       " 6.65947825347764e-05: 'Exterior1st_BrkComm',\n",
       " 6.395179726892457e-05: 'RoofMatl_ClyTile',\n",
       " 6.171932428606692e-05: 'BsmtFinType2_Rec',\n",
       " 5.741696240760103e-05: 'Neighborhood_BrkSide',\n",
       " 5.4586443148693436e-05: 'BsmtFinType1_BLQ',\n",
       " 5.415025034639165e-05: 'Functional_Maj1',\n",
       " 5.365739233302474e-05: 'LotConfig_FR3',\n",
       " 5.0247506782364814e-05: 'ExterQual_Fa',\n",
       " 4.9988505114936047e-05: 'KitchenQual_Fa',\n",
       " 4.879926641427811e-05: 'SaleType_COD',\n",
       " 4.872636203272326e-05: 'Neighborhood_Veenker',\n",
       " 4.8395873198200405e-05: 'Neighborhood_SWISU',\n",
       " 4.8300269244530156e-05: 'SaleType_ConLD',\n",
       " 4.78280511741202e-05: 'Electrical_FuseA',\n",
       " 4.4765920920526004e-05: 'PavedDrive_P',\n",
       " 4.251371086081139e-05: 'Electrical_SBrkr',\n",
       " 4.1989729219878445e-05: 'Exterior1st_AsbShng',\n",
       " 4.128842931356834e-05: 'BldgType_TwnhsE',\n",
       " 4.074761309084172e-05: 'Exterior2nd_Wd Shng',\n",
       " 4.000602838454387e-05: 'Functional_Maj2',\n",
       " 3.952347529048192e-05: 'Neighborhood_SawyerW',\n",
       " 3.8297100825078276e-05: 'Heating_GasA',\n",
       " 3.80461838119358e-05: 'SaleType_CWD',\n",
       " 3.5951408927565504e-05: 'Condition1_RRAe',\n",
       " 3.574215630216062e-05: 'LowQualFinSF',\n",
       " 3.477953757368687e-05: 'GarageCond_Fa',\n",
       " 3.469164197792327e-05: 'Neighborhood_NWAmes',\n",
       " 3.412808357575791e-05: 'BsmtFinType2_BLQ',\n",
       " 2.9283274696485645e-05: 'MSZoning_RH',\n",
       " 2.9020291247307453e-05: 'GarageType_2Types',\n",
       " 2.769733134195945e-05: 'RoofMatl_Tar&Grv',\n",
       " 2.610176744161835e-05: 'HouseStyle_2.5Fin',\n",
       " 2.562608292966548e-05: 'Heating_GasW',\n",
       " 2.5296323365885592e-05: 'GarageQual_Gd',\n",
       " 2.4554324355273508e-05: 'Condition1_RRNn',\n",
       " 2.36245856577154e-05: 'Exterior2nd_Stone',\n",
       " 2.3385944891880987e-05: 'BsmtFinType2_LwQ',\n",
       " 2.2654411996322722e-05: 'BsmtFinType2_GLQ',\n",
       " 2.2597500980676232e-05: 'GarageQual_Fa',\n",
       " 2.233435660298778e-05: 'Condition1_PosA',\n",
       " 2.0393021769419115e-05: 'Exterior2nd_AsbShng',\n",
       " 1.954317474838487e-05: 'Condition2_Feedr',\n",
       " 1.9462517758665898e-05: 'Neighborhood_Blmngtn',\n",
       " 1.9193407870591177e-05: 'RoofMatl_Membran',\n",
       " 1.732833425592542e-05: 'BsmtFinType2_No Basement',\n",
       " 1.7218453895906497e-05: 'Functional_Min1',\n",
       " 1.6190536571673045e-05: 'SaleType_ConLI',\n",
       " 1.5805508244730158e-05: 'MasVnrType_BrkCmn',\n",
       " 1.5105943023407682e-05: 'GarageFinish_No Garage',\n",
       " 1.49172011433425e-05: 'Street_Pave',\n",
       " 1.405801011420582e-05: 'GarageCond_No Garage',\n",
       " 1.3934161633649355e-05: 'GarageType_CarPort',\n",
       " 1.3330759580420292e-05: 'Exterior2nd_AsphShn',\n",
       " 1.2168092456486299e-05: 'GarageType_No Garage',\n",
       " 1.1518435758695136e-05: 'BldgType_2fmCon',\n",
       " 1.1357207900656443e-05: 'Electrical_FuseF',\n",
       " 1.09348849658607e-05: 'Foundation_Stone',\n",
       " 1.0337329573132771e-05: 'BldgType_Twnhs',\n",
       " 9.82972060360413e-06: 'GarageQual_Ex',\n",
       " 8.628815049048665e-06: 'BsmtCond_No Basement',\n",
       " 8.098320746415128e-06: 'HouseStyle_SFoyer',\n",
       " 7.446797296592237e-06: 'RoofStyle_Shed',\n",
       " 7.423349222692285e-06: 'BsmtFinType1_No Basement',\n",
       " 6.512954449853607e-06: 'HouseStyle_1.5Unf',\n",
       " 6.286842954156378e-06: 'Neighborhood_BrDale',\n",
       " 5.762495439537208e-06: 'Exterior1st_WdShing',\n",
       " 5.170766308839281e-06: 'GarageQual_No Garage',\n",
       " 4.977627182383392e-06: 'BsmtCond_Po',\n",
       " 4.601218500716202e-06: 'Street_Grvl',\n",
       " 4.402288643287829e-06: 'ExterCond_Ex',\n",
       " 4.4018907087886714e-06: 'Foundation_Slab',\n",
       " 4.301451007496182e-06: 'RoofMatl_WdShake',\n",
       " 4.047302591764923e-06: 'Neighborhood_NPkVill',\n",
       " 4.020257557661573e-06: 'HouseStyle_2.5Unf',\n",
       " 3.797337976148339e-06: 'Exterior2nd_ImStucc',\n",
       " 3.646874295970933e-06: 'BsmtQual_No Basement',\n",
       " 3.2038019531565363e-06: 'SaleType_ConLw',\n",
       " 3.153881595191223e-06: 'Condition1_RRAn',\n",
       " 2.6672655993896975e-06: 'Electrical_Mix',\n",
       " 2.1866956952398165e-06: 'Neighborhood_MeadowV',\n",
       " 1.8273657492475767e-06: 'Condition2_PosN',\n",
       " 1.5943745049754802e-06: 'BsmtExposure_No Basement',\n",
       " 1.4685072652050876e-06: 'Exterior1st_AsphShn',\n",
       " 9.468165558590385e-07: 'GarageCond_Gd',\n",
       " 9.188471726487865e-07: 'SaleCondition_AdjLand',\n",
       " 5.837665524698574e-07: 'GarageQual_Po',\n",
       " 5.768194209771448e-07: 'Foundation_Wood',\n",
       " 4.504852917089548e-07: 'Exterior1st_Stone',\n",
       " 4.404632232523418e-07: 'Condition1_RRNe',\n",
       " 4.2452686608881984e-07: 'GarageCond_Po',\n",
       " 3.9730440205578297e-07: 'RoofStyle_Mansard',\n",
       " 2.0542532554261904e-07: 'SaleType_Oth',\n",
       " 1.9103365828948697e-07: 'Condition2_RRNn',\n",
       " 1.752904850349229e-07: 'SaleType_Con',\n",
       " 1.1010783541779349e-07: 'Heating_Wall',\n",
       " 9.355865644164705e-08: 'Electrical_FuseP',\n",
       " 8.073611757081034e-08: 'ExterCond_Po',\n",
       " 3.8163817787972736e-08: 'Exterior2nd_Other',\n",
       " 2.0022507775037905e-08: 'Heating_Grav',\n",
       " 4.8239171491759585e-09: 'Utilities_NoSeWa',\n",
       " 1.544950089747172e-10: 'Exterior1st_ImStucc',\n",
       " 0.0: 'Condition2_Artery'}"
      ]
     },
     "execution_count": 81,
     "metadata": {},
     "output_type": "execute_result"
    }
   ],
   "source": [
    "dict(reversed(sorted(zip(model.feature_importances_, df.columns.values))))"
   ]
  },
  {
   "cell_type": "code",
   "execution_count": 82,
   "metadata": {},
   "outputs": [
    {
     "data": {
      "image/png": "[encoded data removed]",
      "text/plain": [
       "<Figure size 432x288 with 1 Axes>"
      ]
     },
     "metadata": {
      "needs_background": "light"
     },
     "output_type": "display_data"
    }
   ],
   "source": [
    "features = df.columns\n",
    "importances = model.feature_importances_\n",
    "indices = np.argsort(importances)[-10:]  # top 10 features\n",
    "plt.title('Feature Importances')\n",
    "plt.barh(range(len(indices)), importances[indices], color='b', align='center')\n",
    "plt.yticks(range(len(indices)), [features[i] for i in indices])\n",
    "plt.xlabel('Relative Importance')\n",
    "plt.show()"
   ]
  },
  {
   "cell_type": "markdown",
   "metadata": {},
   "source": [
    "* As we can see from the data we will be using the 10 features mentioned above."
   ]
  },
  {
   "cell_type": "code",
   "execution_count": 83,
   "metadata": {},
   "outputs": [
    {
     "data": {
      "text/html": [
       "<div>\n",
       "<style scoped>\n",
       "    .dataframe tbody tr th:only-of-type {\n",
       "        vertical-align: middle;\n",
       "    }\n",
       "\n",
       "    .dataframe tbody tr th {\n",
       "        vertical-align: top;\n",
       "    }\n",
       "\n",
       "    .dataframe thead th {\n",
       "        text-align: right;\n",
       "    }\n",
       "</style>\n",
       "<table border=\"1\" class=\"dataframe\">\n",
       "  <thead>\n",
       "    <tr style=\"text-align: right;\">\n",
       "      <th></th>\n",
       "      <th>Garage_Overall</th>\n",
       "      <th>TotGrRmsArea</th>\n",
       "      <th>TotBsmt1stSF</th>\n",
       "      <th>BedAbvGr</th>\n",
       "      <th>BsmtFinSF1</th>\n",
       "      <th>LotArea</th>\n",
       "      <th>BsmtQual_Ex</th>\n",
       "      <th>GarageType_Detchd</th>\n",
       "      <th>YrBuiltGarage</th>\n",
       "      <th>OpenPorchSF</th>\n",
       "    </tr>\n",
       "  </thead>\n",
       "  <tbody>\n",
       "    <tr>\n",
       "      <th>0</th>\n",
       "      <td>1.002480</td>\n",
       "      <td>1.282543</td>\n",
       "      <td>-1.252736</td>\n",
       "      <td>1.325631</td>\n",
       "      <td>0.575425</td>\n",
       "      <td>-0.207142</td>\n",
       "      <td>0</td>\n",
       "      <td>0</td>\n",
       "      <td>2.068592</td>\n",
       "      <td>0.216503</td>\n",
       "    </tr>\n",
       "    <tr>\n",
       "      <th>1</th>\n",
       "      <td>-0.132567</td>\n",
       "      <td>-0.801195</td>\n",
       "      <td>0.723605</td>\n",
       "      <td>-0.631384</td>\n",
       "      <td>1.171992</td>\n",
       "      <td>-0.091886</td>\n",
       "      <td>0</td>\n",
       "      <td>0</td>\n",
       "      <td>0.048807</td>\n",
       "      <td>-0.704483</td>\n",
       "    </tr>\n",
       "    <tr>\n",
       "      <th>2</th>\n",
       "      <td>1.283205</td>\n",
       "      <td>0.196329</td>\n",
       "      <td>-0.941195</td>\n",
       "      <td>1.353130</td>\n",
       "      <td>0.092907</td>\n",
       "      <td>0.073480</td>\n",
       "      <td>0</td>\n",
       "      <td>0</td>\n",
       "      <td>1.918978</td>\n",
       "      <td>-0.070361</td>\n",
       "    </tr>\n",
       "    <tr>\n",
       "      <th>3</th>\n",
       "      <td>1.442283</td>\n",
       "      <td>0.680422</td>\n",
       "      <td>-1.209058</td>\n",
       "      <td>1.101055</td>\n",
       "      <td>-0.499274</td>\n",
       "      <td>-0.096897</td>\n",
       "      <td>0</td>\n",
       "      <td>1</td>\n",
       "      <td>-1.054464</td>\n",
       "      <td>-0.176048</td>\n",
       "    </tr>\n",
       "    <tr>\n",
       "      <th>4</th>\n",
       "      <td>3.073279</td>\n",
       "      <td>2.826982</td>\n",
       "      <td>0.154068</td>\n",
       "      <td>3.007900</td>\n",
       "      <td>0.463568</td>\n",
       "      <td>0.375148</td>\n",
       "      <td>0</td>\n",
       "      <td>0</td>\n",
       "      <td>1.844171</td>\n",
       "      <td>0.563760</td>\n",
       "    </tr>\n",
       "  </tbody>\n",
       "</table>\n",
       "</div>"
      ],
      "text/plain": [
       "   Garage_Overall  TotGrRmsArea  TotBsmt1stSF  BedAbvGr  BsmtFinSF1   LotArea  \\\n",
       "0        1.002480      1.282543     -1.252736  1.325631    0.575425 -0.207142   \n",
       "1       -0.132567     -0.801195      0.723605 -0.631384    1.171992 -0.091886   \n",
       "2        1.283205      0.196329     -0.941195  1.353130    0.092907  0.073480   \n",
       "3        1.442283      0.680422     -1.209058  1.101055   -0.499274 -0.096897   \n",
       "4        3.073279      2.826982      0.154068  3.007900    0.463568  0.375148   \n",
       "\n",
       "   BsmtQual_Ex  GarageType_Detchd  YrBuiltGarage  OpenPorchSF  \n",
       "0            0                  0       2.068592     0.216503  \n",
       "1            0                  0       0.048807    -0.704483  \n",
       "2            0                  0       1.918978    -0.070361  \n",
       "3            0                  1      -1.054464    -0.176048  \n",
       "4            0                  0       1.844171     0.563760  "
      ]
     },
     "execution_count": 83,
     "metadata": {},
     "output_type": "execute_result"
    }
   ],
   "source": [
    "top_10_model_df = df[['Garage_Overall','TotGrRmsArea','TotBsmt1stSF','BedAbvGr','BsmtFinSF1',\n",
    "                      'LotArea','BsmtQual_Ex','GarageType_Detchd','YrBuiltGarage','OpenPorchSF']]\n",
    "top_10_model_df.head()"
   ]
  },
  {
   "cell_type": "markdown",
   "metadata": {},
   "source": [
    "## Splitting the training data to evaluate the models that will be used"
   ]
  },
  {
   "cell_type": "code",
   "execution_count": 84,
   "metadata": {},
   "outputs": [],
   "source": [
    "X = top_10_model_df.values\n",
    "y = temp_train_df_dummies['SalePrice'].values"
   ]
  },
  {
   "cell_type": "code",
   "execution_count": 85,
   "metadata": {},
   "outputs": [],
   "source": [
    "from sklearn.model_selection import train_test_split\n",
    "X_train, X_test, y_train, y_test = train_test_split(X, y, test_size=0.2, random_state=0)"
   ]
  },
  {
   "cell_type": "markdown",
   "metadata": {},
   "source": [
    "# Model 1: Multiple Linear Regression"
   ]
  },
  {
   "cell_type": "code",
   "execution_count": 86,
   "metadata": {},
   "outputs": [
    {
     "data": {
      "text/plain": [
       "LinearRegression()"
      ]
     },
     "execution_count": 86,
     "metadata": {},
     "output_type": "execute_result"
    }
   ],
   "source": [
    "from sklearn.linear_model import LinearRegression\n",
    "regressor = LinearRegression()  \n",
    "regressor.fit(X_train, y_train)"
   ]
  },
  {
   "cell_type": "code",
   "execution_count": 87,
   "metadata": {},
   "outputs": [],
   "source": [
    "y_pred = regressor.predict(X_test)"
   ]
  },
  {
   "cell_type": "code",
   "execution_count": 131,
   "metadata": {
    "scrolled": true
   },
   "outputs": [
    {
     "data": {
      "text/html": [
       "<div>\n",
       "<style scoped>\n",
       "    .dataframe tbody tr th:only-of-type {\n",
       "        vertical-align: middle;\n",
       "    }\n",
       "\n",
       "    .dataframe tbody tr th {\n",
       "        vertical-align: top;\n",
       "    }\n",
       "\n",
       "    .dataframe thead th {\n",
       "        text-align: right;\n",
       "    }\n",
       "</style>\n",
       "<table border=\"1\" class=\"dataframe\">\n",
       "  <thead>\n",
       "    <tr style=\"text-align: right;\">\n",
       "      <th></th>\n",
       "      <th>Actual</th>\n",
       "      <th>Predicted</th>\n",
       "    </tr>\n",
       "  </thead>\n",
       "  <tbody>\n",
       "    <tr>\n",
       "      <th>0</th>\n",
       "      <td>200624</td>\n",
       "      <td>275842.458899</td>\n",
       "    </tr>\n",
       "    <tr>\n",
       "      <th>1</th>\n",
       "      <td>133000</td>\n",
       "      <td>129391.698717</td>\n",
       "    </tr>\n",
       "    <tr>\n",
       "      <th>2</th>\n",
       "      <td>110000</td>\n",
       "      <td>106387.035692</td>\n",
       "    </tr>\n",
       "    <tr>\n",
       "      <th>3</th>\n",
       "      <td>192000</td>\n",
       "      <td>217155.856338</td>\n",
       "    </tr>\n",
       "    <tr>\n",
       "      <th>4</th>\n",
       "      <td>88000</td>\n",
       "      <td>107884.684646</td>\n",
       "    </tr>\n",
       "  </tbody>\n",
       "</table>\n",
       "</div>"
      ],
      "text/plain": [
       "   Actual      Predicted\n",
       "0  200624  275842.458899\n",
       "1  133000  129391.698717\n",
       "2  110000  106387.035692\n",
       "3  192000  217155.856338\n",
       "4   88000  107884.684646"
      ]
     },
     "execution_count": 131,
     "metadata": {},
     "output_type": "execute_result"
    }
   ],
   "source": [
    "MLR_df = pd.DataFrame({'Actual': y_test, 'Predicted': y_pred})\n",
    "MLR_df.head()"
   ]
  },
  {
   "cell_type": "code",
   "execution_count": 132,
   "metadata": {},
   "outputs": [
    {
     "data": {
      "image/png": "[encoded data removed]",
      "text/plain": [
       "<Figure size 1152x720 with 1 Axes>"
      ]
     },
     "metadata": {
      "needs_background": "light"
     },
     "output_type": "display_data"
    }
   ],
   "source": [
    "MLR_df_25 = MLR_df.head(25)\n",
    "MLR_df_25.plot(kind='bar',figsize=(16,10))\n",
    "# plt.grid(which='major', linestyle='-', linewidth='0.5', color='green')\n",
    "# plt.grid(which='minor', linestyle=':', linewidth='0.5', color='black')\n",
    "plt.show()"
   ]
  },
  {
   "cell_type": "markdown",
   "metadata": {},
   "source": [
    "### Evaluation"
   ]
  },
  {
   "cell_type": "code",
   "execution_count": 89,
   "metadata": {},
   "outputs": [
    {
     "name": "stdout",
     "output_type": "stream",
     "text": [
      "Mean Absolute Error: 25416.954362579763\n",
      "Mean Squared Error: 2574121966.0573254\n",
      "Root Mean Squared Error: 50735.80556231787\n",
      "R-squared Error: 0.6272548666022544\n"
     ]
    }
   ],
   "source": [
    "from sklearn import metrics\n",
    "print('Mean Absolute Error:', metrics.mean_absolute_error(y_test, y_pred))  \n",
    "print('Mean Squared Error:', metrics.mean_squared_error(y_test, y_pred))  \n",
    "print('Root Mean Squared Error:', np.sqrt(metrics.mean_squared_error(y_test, y_pred)))\n",
    "print('R-squared Error:', metrics.r2_score(y_test, y_pred))"
   ]
  },
  {
   "cell_type": "code",
   "execution_count": 90,
   "metadata": {},
   "outputs": [
    {
     "data": {
      "text/plain": [
       "180921.19589041095"
      ]
     },
     "execution_count": 90,
     "metadata": {},
     "output_type": "execute_result"
    }
   ],
   "source": [
    "house_train_data['SalePrice'].mean()"
   ]
  },
  {
   "cell_type": "markdown",
   "metadata": {},
   "source": [
    "* The value of root mean squared error is 50735.8, which is almost as thrice as greater than 10% of the mean value which is 180921.2\n",
    "* This means that our algorithm was not very accurate.\n",
    "* Also, the model explains 62.3% of the variation in the response variable around its mean. So, there is a place for improvement"
   ]
  },
  {
   "cell_type": "code",
   "execution_count": 91,
   "metadata": {},
   "outputs": [
    {
     "data": {
      "text/plain": [
       "18092.119589041096"
      ]
     },
     "execution_count": 91,
     "metadata": {},
     "output_type": "execute_result"
    }
   ],
   "source": [
    "house_train_data['SalePrice'].mean()* 0.1"
   ]
  },
  {
   "cell_type": "markdown",
   "metadata": {},
   "source": [
    "### Attempts to improve the Multiple Linear Regression Model"
   ]
  },
  {
   "cell_type": "markdown",
   "metadata": {},
   "source": [
    "#### Changing the features"
   ]
  },
  {
   "cell_type": "code",
   "execution_count": 92,
   "metadata": {},
   "outputs": [],
   "source": [
    "df_new=df.copy()"
   ]
  },
  {
   "cell_type": "code",
   "execution_count": 93,
   "metadata": {},
   "outputs": [],
   "source": [
    "df_new['Bedroom_TotRms'] = 0.1*house_train_data['BedroomAbvGr'] + 0.9*house_train_data['TotRmsAbvGrd']\n",
    "df_new['Garage_Cars'] = 0.5*house_train_data['GarageArea'] + 0.5*house_train_data['GarageCars']\n",
    "df_new['1st_Bsmt_SF'] = 0.1*house_train_data['1stFlrSF'] + 0.9*house_train_data['TotalBsmtSF']\n",
    "df_new['Year_Mod'] = 0.4*house_train_data['YearRemodAdd'] + 0.6*house_train_data['YearBuilt']\n",
    "df_new['BsmtSF'] = 0.5*house_train_data['BsmtFinSF1'] + 0.5*house_train_data['BsmtUnfSF']\n",
    "\n",
    "df_new['OverallQual']=house_train_data['OverallQual']\n",
    "df_new['GrLivArea']=house_train_data['GrLivArea']"
   ]
  },
  {
   "cell_type": "code",
   "execution_count": 94,
   "metadata": {},
   "outputs": [],
   "source": [
    "#we will use 5 created features and 5 modified features\n",
    "new_10_train=df_new[['Bedroom_TotRms','Garage_Cars','1st_Bsmt_SF','Year_Mod','BsmtSF',\n",
    "                 'OverallQual','GrLivArea','BedAbvGr','LotArea','ExterQual_TA']]"
   ]
  },
  {
   "cell_type": "code",
   "execution_count": 95,
   "metadata": {},
   "outputs": [
    {
     "data": {
      "text/html": [
       "<div>\n",
       "<style scoped>\n",
       "    .dataframe tbody tr th:only-of-type {\n",
       "        vertical-align: middle;\n",
       "    }\n",
       "\n",
       "    .dataframe tbody tr th {\n",
       "        vertical-align: top;\n",
       "    }\n",
       "\n",
       "    .dataframe thead th {\n",
       "        text-align: right;\n",
       "    }\n",
       "</style>\n",
       "<table border=\"1\" class=\"dataframe\">\n",
       "  <thead>\n",
       "    <tr style=\"text-align: right;\">\n",
       "      <th></th>\n",
       "      <th>Bedroom_TotRms</th>\n",
       "      <th>Garage_Cars</th>\n",
       "      <th>1st_Bsmt_SF</th>\n",
       "      <th>Year_Mod</th>\n",
       "      <th>BsmtSF</th>\n",
       "      <th>OverallQual</th>\n",
       "      <th>GrLivArea</th>\n",
       "      <th>BedAbvGr</th>\n",
       "      <th>LotArea</th>\n",
       "      <th>ExterQual_TA</th>\n",
       "    </tr>\n",
       "  </thead>\n",
       "  <tbody>\n",
       "    <tr>\n",
       "      <th>0</th>\n",
       "      <td>0.837367</td>\n",
       "      <td>0.331362</td>\n",
       "      <td>-0.492716</td>\n",
       "      <td>0.982064</td>\n",
       "      <td>-0.184583</td>\n",
       "      <td>0.651479</td>\n",
       "      <td>0.370333</td>\n",
       "      <td>1.325631</td>\n",
       "      <td>-0.207142</td>\n",
       "      <td>0</td>\n",
       "    </tr>\n",
       "    <tr>\n",
       "      <th>1</th>\n",
       "      <td>-0.270437</td>\n",
       "      <td>0.125497</td>\n",
       "      <td>0.445532</td>\n",
       "      <td>-0.077791</td>\n",
       "      <td>0.265382</td>\n",
       "      <td>-0.071836</td>\n",
       "      <td>-0.482512</td>\n",
       "      <td>-0.631384</td>\n",
       "      <td>-0.091886</td>\n",
       "      <td>1</td>\n",
       "    </tr>\n",
       "    <tr>\n",
       "      <th>2</th>\n",
       "      <td>-0.270437</td>\n",
       "      <td>0.471725</td>\n",
       "      <td>-0.344814</td>\n",
       "      <td>0.922937</td>\n",
       "      <td>-0.104368</td>\n",
       "      <td>0.651479</td>\n",
       "      <td>0.515013</td>\n",
       "      <td>1.353130</td>\n",
       "      <td>0.073480</td>\n",
       "      <td>0</td>\n",
       "    </tr>\n",
       "    <tr>\n",
       "      <th>3</th>\n",
       "      <td>0.283465</td>\n",
       "      <td>1.220556</td>\n",
       "      <td>-0.670765</td>\n",
       "      <td>-1.406298</td>\n",
       "      <td>-0.280472</td>\n",
       "      <td>0.651479</td>\n",
       "      <td>0.383659</td>\n",
       "      <td>1.101055</td>\n",
       "      <td>-0.096897</td>\n",
       "      <td>1</td>\n",
       "    </tr>\n",
       "    <tr>\n",
       "      <th>4</th>\n",
       "      <td>1.513893</td>\n",
       "      <td>1.674396</td>\n",
       "      <td>0.175151</td>\n",
       "      <td>0.864302</td>\n",
       "      <td>0.144352</td>\n",
       "      <td>1.374795</td>\n",
       "      <td>1.299326</td>\n",
       "      <td>3.007900</td>\n",
       "      <td>0.375148</td>\n",
       "      <td>0</td>\n",
       "    </tr>\n",
       "  </tbody>\n",
       "</table>\n",
       "</div>"
      ],
      "text/plain": [
       "   Bedroom_TotRms  Garage_Cars  1st_Bsmt_SF  Year_Mod    BsmtSF  OverallQual  \\\n",
       "0        0.837367     0.331362    -0.492716  0.982064 -0.184583     0.651479   \n",
       "1       -0.270437     0.125497     0.445532 -0.077791  0.265382    -0.071836   \n",
       "2       -0.270437     0.471725    -0.344814  0.922937 -0.104368     0.651479   \n",
       "3        0.283465     1.220556    -0.670765 -1.406298 -0.280472     0.651479   \n",
       "4        1.513893     1.674396     0.175151  0.864302  0.144352     1.374795   \n",
       "\n",
       "   GrLivArea  BedAbvGr   LotArea  ExterQual_TA  \n",
       "0   0.370333  1.325631 -0.207142             0  \n",
       "1  -0.482512 -0.631384 -0.091886             1  \n",
       "2   0.515013  1.353130  0.073480             0  \n",
       "3   0.383659  1.101055 -0.096897             1  \n",
       "4   1.299326  3.007900  0.375148             0  "
      ]
     },
     "execution_count": 95,
     "metadata": {},
     "output_type": "execute_result"
    }
   ],
   "source": [
    "new_10_train.head()"
   ]
  },
  {
   "cell_type": "code",
   "execution_count": 96,
   "metadata": {},
   "outputs": [],
   "source": [
    "X_new = new_10_train.values"
   ]
  },
  {
   "cell_type": "code",
   "execution_count": 97,
   "metadata": {},
   "outputs": [],
   "source": [
    "X_train_new, X_test_new, y_train_new, y_test_new = train_test_split(X_new, y, test_size=0.2, random_state=0)"
   ]
  },
  {
   "cell_type": "code",
   "execution_count": 98,
   "metadata": {},
   "outputs": [
    {
     "data": {
      "text/plain": [
       "LinearRegression()"
      ]
     },
     "execution_count": 98,
     "metadata": {},
     "output_type": "execute_result"
    }
   ],
   "source": [
    "regressor.fit(X_train_new, y_train_new)"
   ]
  },
  {
   "cell_type": "code",
   "execution_count": 99,
   "metadata": {},
   "outputs": [],
   "source": [
    "y_pred_new = regressor.predict(X_test_new)"
   ]
  },
  {
   "cell_type": "code",
   "execution_count": 133,
   "metadata": {},
   "outputs": [
    {
     "data": {
      "text/html": [
       "<div>\n",
       "<style scoped>\n",
       "    .dataframe tbody tr th:only-of-type {\n",
       "        vertical-align: middle;\n",
       "    }\n",
       "\n",
       "    .dataframe tbody tr th {\n",
       "        vertical-align: top;\n",
       "    }\n",
       "\n",
       "    .dataframe thead th {\n",
       "        text-align: right;\n",
       "    }\n",
       "</style>\n",
       "<table border=\"1\" class=\"dataframe\">\n",
       "  <thead>\n",
       "    <tr style=\"text-align: right;\">\n",
       "      <th></th>\n",
       "      <th>Actual</th>\n",
       "      <th>Predicted</th>\n",
       "    </tr>\n",
       "  </thead>\n",
       "  <tbody>\n",
       "    <tr>\n",
       "      <th>0</th>\n",
       "      <td>200624</td>\n",
       "      <td>287679.159069</td>\n",
       "    </tr>\n",
       "    <tr>\n",
       "      <th>1</th>\n",
       "      <td>133000</td>\n",
       "      <td>141572.164118</td>\n",
       "    </tr>\n",
       "    <tr>\n",
       "      <th>2</th>\n",
       "      <td>110000</td>\n",
       "      <td>105867.046325</td>\n",
       "    </tr>\n",
       "    <tr>\n",
       "      <th>3</th>\n",
       "      <td>192000</td>\n",
       "      <td>218134.898123</td>\n",
       "    </tr>\n",
       "    <tr>\n",
       "      <th>4</th>\n",
       "      <td>88000</td>\n",
       "      <td>111129.023392</td>\n",
       "    </tr>\n",
       "  </tbody>\n",
       "</table>\n",
       "</div>"
      ],
      "text/plain": [
       "   Actual      Predicted\n",
       "0  200624  287679.159069\n",
       "1  133000  141572.164118\n",
       "2  110000  105867.046325\n",
       "3  192000  218134.898123\n",
       "4   88000  111129.023392"
      ]
     },
     "execution_count": 133,
     "metadata": {},
     "output_type": "execute_result"
    }
   ],
   "source": [
    "MLR_df_2 = pd.DataFrame({'Actual': y_test_new, 'Predicted': y_pred_new})\n",
    "MLR_df_2.head()"
   ]
  },
  {
   "cell_type": "code",
   "execution_count": 134,
   "metadata": {},
   "outputs": [
    {
     "data": {
      "image/png": "[encoded data removed]",
      "text/plain": [
       "<Figure size 1152x720 with 1 Axes>"
      ]
     },
     "metadata": {
      "needs_background": "light"
     },
     "output_type": "display_data"
    }
   ],
   "source": [
    "MLR_df_2_25 = MLR_df_2.head(25)\n",
    "MLR_df_2_25.plot(kind='bar',figsize=(16,10))\n",
    "# plt.grid(which='major', linestyle='-', linewidth='0.5', color='green')\n",
    "# plt.grid(which='minor', linestyle=':', linewidth='0.5', color='black')\n",
    "plt.show()"
   ]
  },
  {
   "cell_type": "markdown",
   "metadata": {},
   "source": [
    "### Evaluating the model after changing the features"
   ]
  },
  {
   "cell_type": "code",
   "execution_count": 101,
   "metadata": {},
   "outputs": [
    {
     "name": "stdout",
     "output_type": "stream",
     "text": [
      "Mean Absolute Error: 25774.990882733797\n",
      "Mean Squared Error: 2384793355.39353\n",
      "Root Mean Squared Error: 48834.34606292512\n",
      "R-squared Error: 0.6546705520936367\n"
     ]
    }
   ],
   "source": [
    "print('Mean Absolute Error:', metrics.mean_absolute_error(y_test_new, y_pred_new))  \n",
    "print('Mean Squared Error:', metrics.mean_squared_error(y_test_new, y_pred_new))  \n",
    "print('Root Mean Squared Error:', np.sqrt(metrics.mean_squared_error(y_test_new, y_pred_new)))\n",
    "print('R-squared Error:', metrics.r2_score(y_test_new, y_pred_new))"
   ]
  },
  {
   "cell_type": "markdown",
   "metadata": {},
   "source": [
    "R-squared Error is a bit higher now, which means that model was improved"
   ]
  },
  {
   "cell_type": "markdown",
   "metadata": {},
   "source": [
    "# Model 2: KNN for Regression"
   ]
  },
  {
   "cell_type": "markdown",
   "metadata": {},
   "source": [
    "#### Preprocessing – Scaling the features"
   ]
  },
  {
   "cell_type": "code",
   "execution_count": 102,
   "metadata": {},
   "outputs": [],
   "source": [
    "from sklearn import neighbors\n",
    "knn_3=neighbors.KNeighborsRegressor(n_neighbors =3)\n",
    "knn_3.fit(X_train_new, y_train_new)  #fit the model\n",
    "predict = knn_3.predict(X_test_new)"
   ]
  },
  {
   "cell_type": "code",
   "execution_count": 135,
   "metadata": {},
   "outputs": [
    {
     "data": {
      "text/html": [
       "<div>\n",
       "<style scoped>\n",
       "    .dataframe tbody tr th:only-of-type {\n",
       "        vertical-align: middle;\n",
       "    }\n",
       "\n",
       "    .dataframe tbody tr th {\n",
       "        vertical-align: top;\n",
       "    }\n",
       "\n",
       "    .dataframe thead th {\n",
       "        text-align: right;\n",
       "    }\n",
       "</style>\n",
       "<table border=\"1\" class=\"dataframe\">\n",
       "  <thead>\n",
       "    <tr style=\"text-align: right;\">\n",
       "      <th></th>\n",
       "      <th>Actual</th>\n",
       "      <th>Predicted</th>\n",
       "    </tr>\n",
       "  </thead>\n",
       "  <tbody>\n",
       "    <tr>\n",
       "      <th>0</th>\n",
       "      <td>200624</td>\n",
       "      <td>197000.000000</td>\n",
       "    </tr>\n",
       "    <tr>\n",
       "      <th>1</th>\n",
       "      <td>133000</td>\n",
       "      <td>129600.000000</td>\n",
       "    </tr>\n",
       "    <tr>\n",
       "      <th>2</th>\n",
       "      <td>110000</td>\n",
       "      <td>98166.666667</td>\n",
       "    </tr>\n",
       "    <tr>\n",
       "      <th>3</th>\n",
       "      <td>192000</td>\n",
       "      <td>210933.333333</td>\n",
       "    </tr>\n",
       "    <tr>\n",
       "      <th>4</th>\n",
       "      <td>88000</td>\n",
       "      <td>114833.333333</td>\n",
       "    </tr>\n",
       "  </tbody>\n",
       "</table>\n",
       "</div>"
      ],
      "text/plain": [
       "   Actual      Predicted\n",
       "0  200624  197000.000000\n",
       "1  133000  129600.000000\n",
       "2  110000   98166.666667\n",
       "3  192000  210933.333333\n",
       "4   88000  114833.333333"
      ]
     },
     "execution_count": 135,
     "metadata": {},
     "output_type": "execute_result"
    }
   ],
   "source": [
    "knn_df = pd.DataFrame({'Actual': y_test_new, 'Predicted': predict})\n",
    "knn_df.head()"
   ]
  },
  {
   "cell_type": "code",
   "execution_count": 136,
   "metadata": {},
   "outputs": [
    {
     "data": {
      "image/png": "[encoded data removed]",
      "text/plain": [
       "<Figure size 1152x720 with 1 Axes>"
      ]
     },
     "metadata": {
      "needs_background": "light"
     },
     "output_type": "display_data"
    }
   ],
   "source": [
    "knn_df_25 = knn_df.head(25)\n",
    "knn_df_25.plot(kind='bar',figsize=(16,10))\n",
    "# plt.grid(which='major', linestyle='-', linewidth='0.5', color='green')\n",
    "# plt.grid(which='minor', linestyle=':', linewidth='0.5', color='black')\n",
    "plt.show()"
   ]
  },
  {
   "cell_type": "markdown",
   "metadata": {},
   "source": [
    "### Evaluation"
   ]
  },
  {
   "cell_type": "code",
   "execution_count": 104,
   "metadata": {},
   "outputs": [
    {
     "name": "stdout",
     "output_type": "stream",
     "text": [
      "Mean Absolute Error: 21372.83675799087\n",
      "Mean Squared Error: 1157516111.7636986\n",
      "Root Mean Squared Error: 34022.28845571236\n",
      "R-squared Error: 0.8323861482949674\n"
     ]
    }
   ],
   "source": [
    "print('Mean Absolute Error:', metrics.mean_absolute_error(y_test_new, predict))  \n",
    "print('Mean Squared Error:', metrics.mean_squared_error(y_test_new, predict))  \n",
    "print('Root Mean Squared Error:', np.sqrt(metrics.mean_squared_error(y_test_new, predict)))\n",
    "print('R-squared Error:', metrics.r2_score(y_test_new, predict))"
   ]
  },
  {
   "cell_type": "markdown",
   "metadata": {},
   "source": [
    "### Attempts to improve the KNN Model"
   ]
  },
  {
   "cell_type": "markdown",
   "metadata": {},
   "source": [
    "#### Changing the n_neighbors to 2"
   ]
  },
  {
   "cell_type": "code",
   "execution_count": 105,
   "metadata": {},
   "outputs": [],
   "source": [
    "#  create a classifier using k-Nearest Neighbors algorithm.\n",
    "from sklearn.neighbors import KNeighborsClassifier\n",
    "\n",
    "#Setup arrays to store training and test accuracies\n",
    "neighbors = np.arange(1,9)\n",
    "train_accuracy =np.empty(len(neighbors))\n",
    "test_accuracy = np.empty(len(neighbors))\n",
    "\n",
    "for i,k in enumerate(neighbors):\n",
    "    #Setup a knn classifier with k neighbors\n",
    "    knn = KNeighborsClassifier(n_neighbors=k)\n",
    "    \n",
    "    #Fit the model\n",
    "    knn.fit(X_train_new,  y_train_new)\n",
    "    \n",
    "    #Compute accuracy on the training set\n",
    "    train_accuracy[i] = knn.score(X_train_new, y_train_new)\n",
    "    \n",
    "    #Compute accuracy on the test set\n",
    "    test_accuracy[i] = knn.score(X_test_new, y_test_new) "
   ]
  },
  {
   "cell_type": "code",
   "execution_count": 106,
   "metadata": {},
   "outputs": [
    {
     "data": {
      "image/png": "[encoded data removed]",
      "text/plain": [
       "<Figure size 432x288 with 1 Axes>"
      ]
     },
     "metadata": {
      "needs_background": "light"
     },
     "output_type": "display_data"
    }
   ],
   "source": [
    "#Generate plot\n",
    "plt.title('KNN Varying number of neighbors')\n",
    "plt.plot(neighbors, test_accuracy, label='Testing Accuracy')\n",
    "plt.plot(neighbors, train_accuracy, label='Training accuracy')\n",
    "plt.legend()\n",
    "plt.xlabel('Number of neighbors')\n",
    "plt.ylabel('Accuracy')\n",
    "plt.show()"
   ]
  },
  {
   "cell_type": "code",
   "execution_count": 108,
   "metadata": {},
   "outputs": [],
   "source": [
    "from sklearn import neighbors\n",
    "knn_2=neighbors.KNeighborsRegressor(n_neighbors =2)\n",
    "knn_2.fit(X_train_new,  y_train_new)  #fit the model\n",
    "predict_2 = knn_2.predict(X_test_new)"
   ]
  },
  {
   "cell_type": "code",
   "execution_count": 137,
   "metadata": {
    "scrolled": true
   },
   "outputs": [
    {
     "data": {
      "text/html": [
       "<div>\n",
       "<style scoped>\n",
       "    .dataframe tbody tr th:only-of-type {\n",
       "        vertical-align: middle;\n",
       "    }\n",
       "\n",
       "    .dataframe tbody tr th {\n",
       "        vertical-align: top;\n",
       "    }\n",
       "\n",
       "    .dataframe thead th {\n",
       "        text-align: right;\n",
       "    }\n",
       "</style>\n",
       "<table border=\"1\" class=\"dataframe\">\n",
       "  <thead>\n",
       "    <tr style=\"text-align: right;\">\n",
       "      <th></th>\n",
       "      <th>Actual</th>\n",
       "      <th>Predicted</th>\n",
       "    </tr>\n",
       "  </thead>\n",
       "  <tbody>\n",
       "    <tr>\n",
       "      <th>0</th>\n",
       "      <td>200624</td>\n",
       "      <td>205500.0</td>\n",
       "    </tr>\n",
       "    <tr>\n",
       "      <th>1</th>\n",
       "      <td>133000</td>\n",
       "      <td>121900.0</td>\n",
       "    </tr>\n",
       "    <tr>\n",
       "      <th>2</th>\n",
       "      <td>110000</td>\n",
       "      <td>94750.0</td>\n",
       "    </tr>\n",
       "    <tr>\n",
       "      <th>3</th>\n",
       "      <td>192000</td>\n",
       "      <td>215500.0</td>\n",
       "    </tr>\n",
       "    <tr>\n",
       "      <th>4</th>\n",
       "      <td>88000</td>\n",
       "      <td>116250.0</td>\n",
       "    </tr>\n",
       "  </tbody>\n",
       "</table>\n",
       "</div>"
      ],
      "text/plain": [
       "   Actual  Predicted\n",
       "0  200624   205500.0\n",
       "1  133000   121900.0\n",
       "2  110000    94750.0\n",
       "3  192000   215500.0\n",
       "4   88000   116250.0"
      ]
     },
     "execution_count": 137,
     "metadata": {},
     "output_type": "execute_result"
    }
   ],
   "source": [
    "knn_2_df = pd.DataFrame({'Actual': y_test_new, 'Predicted': predict_2})\n",
    "knn_2_df.head()"
   ]
  },
  {
   "cell_type": "code",
   "execution_count": 138,
   "metadata": {},
   "outputs": [
    {
     "data": {
      "image/png": "[encoded data removed]",
      "text/plain": [
       "<Figure size 1152x720 with 1 Axes>"
      ]
     },
     "metadata": {
      "needs_background": "light"
     },
     "output_type": "display_data"
    }
   ],
   "source": [
    "knn_df_2_25 = knn_2_df.head(25)\n",
    "knn_df_2_25.plot(kind='bar',figsize=(16,10))\n",
    "# plt.grid(which='major', linestyle='-', linewidth='0.5', color='green')\n",
    "# plt.grid(which='minor', linestyle=':', linewidth='0.5', color='black')\n",
    "plt.show()"
   ]
  },
  {
   "cell_type": "code",
   "execution_count": 109,
   "metadata": {},
   "outputs": [
    {
     "name": "stdout",
     "output_type": "stream",
     "text": [
      "Mean Absolute Error: 22101.587328767124\n",
      "Mean Squared Error: 955644888.3107877\n",
      "Root Mean Squared Error: 30913.506567692828\n",
      "R-squared Error: 0.8616180639179762\n"
     ]
    }
   ],
   "source": [
    "print('Mean Absolute Error:', metrics.mean_absolute_error(y_test_new, predict_2))  \n",
    "print('Mean Squared Error:', metrics.mean_squared_error(y_test_new, predict_2))  \n",
    "print('Root Mean Squared Error:', np.sqrt(metrics.mean_squared_error(y_test_new, predict_2)))\n",
    "print('R-squared Error:', metrics.r2_score(y_test_new, predict_2))"
   ]
  },
  {
   "cell_type": "markdown",
   "metadata": {},
   "source": [
    "R-squared Error is a bit higher now, which means that model was improved"
   ]
  },
  {
   "cell_type": "markdown",
   "metadata": {},
   "source": [
    "# Model 3: Decision Tree for Regression"
   ]
  },
  {
   "cell_type": "code",
   "execution_count": 110,
   "metadata": {},
   "outputs": [],
   "source": [
    "# X_test_new\n",
    "# X_train_new\n",
    "# y_test_new\n",
    "# y_train_new\n",
    "\n",
    "from sklearn.tree import DecisionTreeRegressor\n",
    "dt = DecisionTreeRegressor()"
   ]
  },
  {
   "cell_type": "code",
   "execution_count": 111,
   "metadata": {},
   "outputs": [
    {
     "data": {
      "text/plain": [
       "DecisionTreeRegressor()"
      ]
     },
     "execution_count": 111,
     "metadata": {},
     "output_type": "execute_result"
    }
   ],
   "source": [
    "dt.fit(X_train_new, y_train_new)"
   ]
  },
  {
   "cell_type": "code",
   "execution_count": 112,
   "metadata": {},
   "outputs": [],
   "source": [
    "y_pred_dt = dt.predict(X_test_new)"
   ]
  },
  {
   "cell_type": "code",
   "execution_count": 139,
   "metadata": {
    "scrolled": false
   },
   "outputs": [
    {
     "data": {
      "text/html": [
       "<div>\n",
       "<style scoped>\n",
       "    .dataframe tbody tr th:only-of-type {\n",
       "        vertical-align: middle;\n",
       "    }\n",
       "\n",
       "    .dataframe tbody tr th {\n",
       "        vertical-align: top;\n",
       "    }\n",
       "\n",
       "    .dataframe thead th {\n",
       "        text-align: right;\n",
       "    }\n",
       "</style>\n",
       "<table border=\"1\" class=\"dataframe\">\n",
       "  <thead>\n",
       "    <tr style=\"text-align: right;\">\n",
       "      <th></th>\n",
       "      <th>Actual</th>\n",
       "      <th>Predicted</th>\n",
       "    </tr>\n",
       "  </thead>\n",
       "  <tbody>\n",
       "    <tr>\n",
       "      <th>0</th>\n",
       "      <td>200624</td>\n",
       "      <td>231500.0</td>\n",
       "    </tr>\n",
       "    <tr>\n",
       "      <th>1</th>\n",
       "      <td>133000</td>\n",
       "      <td>177000.0</td>\n",
       "    </tr>\n",
       "    <tr>\n",
       "      <th>2</th>\n",
       "      <td>110000</td>\n",
       "      <td>119900.0</td>\n",
       "    </tr>\n",
       "    <tr>\n",
       "      <th>3</th>\n",
       "      <td>192000</td>\n",
       "      <td>271000.0</td>\n",
       "    </tr>\n",
       "    <tr>\n",
       "      <th>4</th>\n",
       "      <td>88000</td>\n",
       "      <td>94500.0</td>\n",
       "    </tr>\n",
       "  </tbody>\n",
       "</table>\n",
       "</div>"
      ],
      "text/plain": [
       "   Actual  Predicted\n",
       "0  200624   231500.0\n",
       "1  133000   177000.0\n",
       "2  110000   119900.0\n",
       "3  192000   271000.0\n",
       "4   88000    94500.0"
      ]
     },
     "execution_count": 139,
     "metadata": {},
     "output_type": "execute_result"
    }
   ],
   "source": [
    "dt_df= pd.DataFrame({'Actual': y_test_new, 'Predicted': y_pred_dt})\n",
    "dt_df.head()"
   ]
  },
  {
   "cell_type": "code",
   "execution_count": 140,
   "metadata": {},
   "outputs": [
    {
     "data": {
      "image/png": "[encoded data removed]",
      "text/plain": [
       "<Figure size 1152x720 with 1 Axes>"
      ]
     },
     "metadata": {
      "needs_background": "light"
     },
     "output_type": "display_data"
    }
   ],
   "source": [
    "dt_df_25 = dt_df.head(25)\n",
    "dt_df_25.plot(kind='bar',figsize=(16,10))\n",
    "# plt.grid(which='major', linestyle='-', linewidth='0.5', color='green')\n",
    "# plt.grid(which='minor', linestyle=':', linewidth='0.5', color='black')\n",
    "plt.show()"
   ]
  },
  {
   "cell_type": "markdown",
   "metadata": {},
   "source": [
    "### Evaluation"
   ]
  },
  {
   "cell_type": "code",
   "execution_count": 114,
   "metadata": {},
   "outputs": [
    {
     "name": "stdout",
     "output_type": "stream",
     "text": [
      "Mean Absolute Error: 26362.325342465752\n",
      "Mean Squared Error: 1404470097.880137\n",
      "Root Mean Squared Error: 37476.260457523465\n",
      "R-squared Error: 0.7966260336959426\n"
     ]
    }
   ],
   "source": [
    "print('Mean Absolute Error:', metrics.mean_absolute_error(y_test_new, y_pred_dt))  \n",
    "print('Mean Squared Error:', metrics.mean_squared_error(y_test_new, y_pred_dt))  \n",
    "print('Root Mean Squared Error:', np.sqrt(metrics.mean_squared_error(y_test_new, y_pred_dt)))\n",
    "print('R-squared Error:', metrics.r2_score(y_test_new, y_pred_dt))"
   ]
  },
  {
   "cell_type": "markdown",
   "metadata": {},
   "source": [
    "### Attempts to improve the Decision Tree Regression Model"
   ]
  },
  {
   "cell_type": "code",
   "execution_count": 115,
   "metadata": {},
   "outputs": [],
   "source": [
    "#ew_10_train_dt=df_new[['Bedroom_TotRms','Garage_Cars','1st_Bsmt_SF','Year_Mod','BsmtSF',\n",
    " #               'OverallQual','GrLivArea','BedAbvGr','LotArea','ExterQual_TA']]"
   ]
  },
  {
   "cell_type": "code",
   "execution_count": 116,
   "metadata": {},
   "outputs": [],
   "source": [
    "new_10_train_dt=df_new[['Bedroom_TotRms','Garage_Cars','1st_Bsmt_SF','Year_Mod','BsmtSF',\n",
    "                 'OverallQual','GrLivArea','BedAbvGr','LotArea','ExterQual_TA']]\n"
   ]
  },
  {
   "cell_type": "code",
   "execution_count": 117,
   "metadata": {},
   "outputs": [],
   "source": [
    "X_dt = new_10_train_dt.values"
   ]
  },
  {
   "cell_type": "code",
   "execution_count": 118,
   "metadata": {},
   "outputs": [],
   "source": [
    "X_train_dt, X_test_dt, y_train_dt, y_test_dt = train_test_split(X_dt, y, test_size=0.2, random_state=0)"
   ]
  },
  {
   "cell_type": "code",
   "execution_count": 119,
   "metadata": {},
   "outputs": [
    {
     "data": {
      "text/plain": [
       "DecisionTreeRegressor()"
      ]
     },
     "execution_count": 119,
     "metadata": {},
     "output_type": "execute_result"
    }
   ],
   "source": [
    "dt.fit(X_train_dt, y_train_dt)"
   ]
  },
  {
   "cell_type": "code",
   "execution_count": 120,
   "metadata": {},
   "outputs": [],
   "source": [
    "y_pred_dt_new = dt.predict(X_test_dt)"
   ]
  },
  {
   "cell_type": "code",
   "execution_count": 141,
   "metadata": {
    "scrolled": true
   },
   "outputs": [
    {
     "data": {
      "text/html": [
       "<div>\n",
       "<style scoped>\n",
       "    .dataframe tbody tr th:only-of-type {\n",
       "        vertical-align: middle;\n",
       "    }\n",
       "\n",
       "    .dataframe tbody tr th {\n",
       "        vertical-align: top;\n",
       "    }\n",
       "\n",
       "    .dataframe thead th {\n",
       "        text-align: right;\n",
       "    }\n",
       "</style>\n",
       "<table border=\"1\" class=\"dataframe\">\n",
       "  <thead>\n",
       "    <tr style=\"text-align: right;\">\n",
       "      <th></th>\n",
       "      <th>Actual</th>\n",
       "      <th>Predicted</th>\n",
       "    </tr>\n",
       "  </thead>\n",
       "  <tbody>\n",
       "    <tr>\n",
       "      <th>0</th>\n",
       "      <td>200624</td>\n",
       "      <td>239000.0</td>\n",
       "    </tr>\n",
       "    <tr>\n",
       "      <th>1</th>\n",
       "      <td>133000</td>\n",
       "      <td>175000.0</td>\n",
       "    </tr>\n",
       "    <tr>\n",
       "      <th>2</th>\n",
       "      <td>110000</td>\n",
       "      <td>119900.0</td>\n",
       "    </tr>\n",
       "    <tr>\n",
       "      <th>3</th>\n",
       "      <td>192000</td>\n",
       "      <td>269790.0</td>\n",
       "    </tr>\n",
       "    <tr>\n",
       "      <th>4</th>\n",
       "      <td>88000</td>\n",
       "      <td>89500.0</td>\n",
       "    </tr>\n",
       "  </tbody>\n",
       "</table>\n",
       "</div>"
      ],
      "text/plain": [
       "   Actual  Predicted\n",
       "0  200624   239000.0\n",
       "1  133000   175000.0\n",
       "2  110000   119900.0\n",
       "3  192000   269790.0\n",
       "4   88000    89500.0"
      ]
     },
     "execution_count": 141,
     "metadata": {},
     "output_type": "execute_result"
    }
   ],
   "source": [
    "dt_2_df= pd.DataFrame({'Actual': y_test_dt, 'Predicted': y_pred_dt_new})\n",
    "dt_2_df.head()"
   ]
  },
  {
   "cell_type": "code",
   "execution_count": 142,
   "metadata": {},
   "outputs": [
    {
     "data": {
      "image/png": "[encoded data removed]",
      "text/plain": [
       "<Figure size 1152x720 with 1 Axes>"
      ]
     },
     "metadata": {
      "needs_background": "light"
     },
     "output_type": "display_data"
    }
   ],
   "source": [
    "dt_2_df_25 = dt_2_df.head(25)\n",
    "dt_2_df_25.plot(kind='bar',figsize=(16,10))\n",
    "# plt.grid(which='major', linestyle='-', linewidth='0.5', color='green')\n",
    "# plt.grid(which='minor', linestyle=':', linewidth='0.5', color='black')\n",
    "plt.show()"
   ]
  },
  {
   "cell_type": "code",
   "execution_count": 121,
   "metadata": {},
   "outputs": [
    {
     "name": "stdout",
     "output_type": "stream",
     "text": [
      "Mean Absolute Error: 25971.84931506849\n",
      "Mean Squared Error: 1379398818.7671232\n",
      "Root Mean Squared Error: 37140.25873317421\n",
      "R-squared Error: 0.8002564744445393\n"
     ]
    }
   ],
   "source": [
    "print('Mean Absolute Error:', metrics.mean_absolute_error(y_test_dt, y_pred_dt_new))  \n",
    "print('Mean Squared Error:', metrics.mean_squared_error(y_test_dt, y_pred_dt_new))  \n",
    "print('Root Mean Squared Error:', np.sqrt(metrics.mean_squared_error(y_test_dt, y_pred_dt_new)))\n",
    "print('R-squared Error:', metrics.r2_score(y_test_dt, y_pred_dt_new))"
   ]
  },
  {
   "cell_type": "markdown",
   "metadata": {},
   "source": [
    "R-squared Error is slightly higher, which means that model was improved"
   ]
  },
  {
   "cell_type": "markdown",
   "metadata": {},
   "source": [
    "# SalePrice Prediction using the Multiple Linear Regression"
   ]
  },
  {
   "cell_type": "code",
   "execution_count": 122,
   "metadata": {},
   "outputs": [],
   "source": [
    "trainX=df_new[['Bedroom_TotRms','Garage_Cars','1st_Bsmt_SF','Year_Mod','BsmtSF',\n",
    "                 'OverallQual','GrLivArea','BedAbvGr','LotArea','ExterQual_TA']].values\n",
    "trainY= house_train_data['SalePrice'].values"
   ]
  },
  {
   "cell_type": "code",
   "execution_count": 123,
   "metadata": {},
   "outputs": [],
   "source": [
    "house_test_data['Bedroom_TotRms'] = 0.1*house_test_data['BedroomAbvGr'] + 0.9*house_test_data['TotRmsAbvGrd']\n",
    "house_test_data['Garage_Cars'] = 0.5*house_test_data['GarageArea'] + 0.5*house_test_data['GarageCars']\n",
    "house_test_data['1st_Bsmt_SF'] = 0.1*house_test_data['1stFlrSF'] + 0.9*house_test_data['TotalBsmtSF']\n",
    "house_test_data['Year_Mod'] = 0.4*house_test_data['YearRemodAdd'] + 0.6*house_test_data['YearBuilt']\n",
    "house_test_data['BsmtSF'] = 0.5*house_test_data['BsmtFinSF1'] + 0.5*house_test_data['BsmtUnfSF']\n",
    "\n",
    "house_test_data['ExterQual_TA'] = pd.get_dummies(house_test_data).ExterQual_TA\n",
    "\n",
    "testX=house_test_data[['Bedroom_TotRms','Garage_Cars','1st_Bsmt_SF','Year_Mod','BsmtSF',\n",
    "                 'OverallQual','GrLivArea','2ndFlrSF','LotArea','ExterQual_TA']].values"
   ]
  },
  {
   "cell_type": "code",
   "execution_count": 124,
   "metadata": {},
   "outputs": [],
   "source": [
    "MLR_pred=regressor.predict(testX)"
   ]
  },
  {
   "cell_type": "code",
   "execution_count": 125,
   "metadata": {},
   "outputs": [
    {
     "data": {
      "text/html": [
       "<div>\n",
       "<style scoped>\n",
       "    .dataframe tbody tr th:only-of-type {\n",
       "        vertical-align: middle;\n",
       "    }\n",
       "\n",
       "    .dataframe tbody tr th {\n",
       "        vertical-align: top;\n",
       "    }\n",
       "\n",
       "    .dataframe thead th {\n",
       "        text-align: right;\n",
       "    }\n",
       "</style>\n",
       "<table border=\"1\" class=\"dataframe\">\n",
       "  <thead>\n",
       "    <tr style=\"text-align: right;\">\n",
       "      <th></th>\n",
       "      <th>Id</th>\n",
       "      <th>SalePrice</th>\n",
       "    </tr>\n",
       "  </thead>\n",
       "  <tbody>\n",
       "    <tr>\n",
       "      <th>0</th>\n",
       "      <td>1461</td>\n",
       "      <td>112929.173201</td>\n",
       "    </tr>\n",
       "    <tr>\n",
       "      <th>1</th>\n",
       "      <td>1462</td>\n",
       "      <td>166406.899933</td>\n",
       "    </tr>\n",
       "    <tr>\n",
       "      <th>2</th>\n",
       "      <td>1463</td>\n",
       "      <td>178448.238828</td>\n",
       "    </tr>\n",
       "    <tr>\n",
       "      <th>3</th>\n",
       "      <td>1464</td>\n",
       "      <td>189488.742918</td>\n",
       "    </tr>\n",
       "    <tr>\n",
       "      <th>4</th>\n",
       "      <td>1465</td>\n",
       "      <td>212755.525827</td>\n",
       "    </tr>\n",
       "  </tbody>\n",
       "</table>\n",
       "</div>"
      ],
      "text/plain": [
       "     Id      SalePrice\n",
       "0  1461  112929.173201\n",
       "1  1462  166406.899933\n",
       "2  1463  178448.238828\n",
       "3  1464  189488.742918\n",
       "4  1465  212755.525827"
      ]
     },
     "execution_count": 125,
     "metadata": {},
     "output_type": "execute_result"
    }
   ],
   "source": [
    "pd.DataFrame({'Id': house_test_data.Id, 'SalePrice': MLR_pred}).head()"
   ]
  },
  {
   "cell_type": "markdown",
   "metadata": {},
   "source": [
    " # SalePrice Prediction using the KNN"
   ]
  },
  {
   "cell_type": "code",
   "execution_count": 126,
   "metadata": {},
   "outputs": [],
   "source": [
    "knn_2=neighbors.KNeighborsRegressor(n_neighbors =2)\n",
    "knn_2.fit(trainX, trainY)  #fit the model\n",
    "KNN_pred = knn_2.predict(testX)"
   ]
  },
  {
   "cell_type": "code",
   "execution_count": 127,
   "metadata": {},
   "outputs": [
    {
     "data": {
      "text/html": [
       "<div>\n",
       "<style scoped>\n",
       "    .dataframe tbody tr th:only-of-type {\n",
       "        vertical-align: middle;\n",
       "    }\n",
       "\n",
       "    .dataframe tbody tr th {\n",
       "        vertical-align: top;\n",
       "    }\n",
       "\n",
       "    .dataframe thead th {\n",
       "        text-align: right;\n",
       "    }\n",
       "</style>\n",
       "<table border=\"1\" class=\"dataframe\">\n",
       "  <thead>\n",
       "    <tr style=\"text-align: right;\">\n",
       "      <th></th>\n",
       "      <th>Id</th>\n",
       "      <th>SalePrice</th>\n",
       "    </tr>\n",
       "  </thead>\n",
       "  <tbody>\n",
       "    <tr>\n",
       "      <th>0</th>\n",
       "      <td>1461</td>\n",
       "      <td>135750.0</td>\n",
       "    </tr>\n",
       "    <tr>\n",
       "      <th>1</th>\n",
       "      <td>1462</td>\n",
       "      <td>147625.0</td>\n",
       "    </tr>\n",
       "    <tr>\n",
       "      <th>2</th>\n",
       "      <td>1463</td>\n",
       "      <td>204250.0</td>\n",
       "    </tr>\n",
       "    <tr>\n",
       "      <th>3</th>\n",
       "      <td>1464</td>\n",
       "      <td>177000.0</td>\n",
       "    </tr>\n",
       "    <tr>\n",
       "      <th>4</th>\n",
       "      <td>1465</td>\n",
       "      <td>184500.0</td>\n",
       "    </tr>\n",
       "  </tbody>\n",
       "</table>\n",
       "</div>"
      ],
      "text/plain": [
       "     Id  SalePrice\n",
       "0  1461   135750.0\n",
       "1  1462   147625.0\n",
       "2  1463   204250.0\n",
       "3  1464   177000.0\n",
       "4  1465   184500.0"
      ]
     },
     "execution_count": 127,
     "metadata": {},
     "output_type": "execute_result"
    }
   ],
   "source": [
    "pd.DataFrame({'Id': house_test_data.Id, 'SalePrice': KNN_pred}).head()"
   ]
  },
  {
   "cell_type": "markdown",
   "metadata": {},
   "source": [
    "# SalePrice Prediction using the Decision Tree"
   ]
  },
  {
   "cell_type": "code",
   "execution_count": 128,
   "metadata": {},
   "outputs": [],
   "source": [
    "dt.fit(trainX, trainY)\n",
    "DT_pred = dt.predict(testX)"
   ]
  },
  {
   "cell_type": "code",
   "execution_count": 129,
   "metadata": {},
   "outputs": [
    {
     "data": {
      "text/html": [
       "<div>\n",
       "<style scoped>\n",
       "    .dataframe tbody tr th:only-of-type {\n",
       "        vertical-align: middle;\n",
       "    }\n",
       "\n",
       "    .dataframe tbody tr th {\n",
       "        vertical-align: top;\n",
       "    }\n",
       "\n",
       "    .dataframe thead th {\n",
       "        text-align: right;\n",
       "    }\n",
       "</style>\n",
       "<table border=\"1\" class=\"dataframe\">\n",
       "  <thead>\n",
       "    <tr style=\"text-align: right;\">\n",
       "      <th></th>\n",
       "      <th>Id</th>\n",
       "      <th>SalePrice</th>\n",
       "    </tr>\n",
       "  </thead>\n",
       "  <tbody>\n",
       "    <tr>\n",
       "      <th>0</th>\n",
       "      <td>1461</td>\n",
       "      <td>159500.0</td>\n",
       "    </tr>\n",
       "    <tr>\n",
       "      <th>1</th>\n",
       "      <td>1462</td>\n",
       "      <td>170000.0</td>\n",
       "    </tr>\n",
       "    <tr>\n",
       "      <th>2</th>\n",
       "      <td>1463</td>\n",
       "      <td>194000.0</td>\n",
       "    </tr>\n",
       "    <tr>\n",
       "      <th>3</th>\n",
       "      <td>1464</td>\n",
       "      <td>181000.0</td>\n",
       "    </tr>\n",
       "    <tr>\n",
       "      <th>4</th>\n",
       "      <td>1465</td>\n",
       "      <td>254000.0</td>\n",
       "    </tr>\n",
       "  </tbody>\n",
       "</table>\n",
       "</div>"
      ],
      "text/plain": [
       "     Id  SalePrice\n",
       "0  1461   159500.0\n",
       "1  1462   170000.0\n",
       "2  1463   194000.0\n",
       "3  1464   181000.0\n",
       "4  1465   254000.0"
      ]
     },
     "execution_count": 129,
     "metadata": {},
     "output_type": "execute_result"
    }
   ],
   "source": [
    "pd.DataFrame({'Id': house_test_data.Id, 'SalePrice': DT_pred}).head()"
   ]
  },
  {
   "cell_type": "code",
   "execution_count": null,
   "metadata": {},
   "outputs": [],
   "source": []
  }
 ],
 "metadata": {
  "kernelspec": {
   "display_name": "Python 3",
   "language": "python",
   "name": "python3"
  },
  "language_info": {
   "codemirror_mode": {
    "name": "ipython",
    "version": 3
   },
   "file_extension": ".py",
   "mimetype": "text/x-python",
   "name": "python",
   "nbconvert_exporter": "python",
   "pygments_lexer": "ipython3",
   "version": "3.8.3"
  }
 },
 "nbformat": 4,
 "nbformat_minor": 4
}
